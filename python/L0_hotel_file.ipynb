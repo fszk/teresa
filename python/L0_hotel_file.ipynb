{
 "cells": [
  {
   "cell_type": "code",
   "execution_count": 1,
   "id": "0aadb2f4-8289-4afb-82c6-13c2e17fe796",
   "metadata": {},
   "outputs": [
    {
     "name": "stdout",
     "output_type": "stream",
     "text": [
      "/Users/floriankokoszka/Desktop/notebooks\n"
     ]
    }
   ],
   "source": [
    "%cd /Users/floriankokoszka/Desktop/notebooks\n",
    "%pwd\n",
    "\n",
    "%run mc_startup.ipynb\n",
    "%run myfunctions.ipynb\n",
    "%run myfunctions_plus.ipynb\n",
    "\n",
    "import warnings\n",
    "warnings.filterwarnings(\"ignore\", category=DeprecationWarning)\n",
    "warnings.filterwarnings(\"ignore\", category=RuntimeWarning)\n",
    "\n",
    "import xarray as xr"
   ]
  },
  {
   "cell_type": "code",
   "execution_count": 2,
   "id": "67772d7f-feb2-4227-bc6d-11bb05c19c0a",
   "metadata": {},
   "outputs": [],
   "source": [
    "from os.path import dirname, join as pjoin\n",
    "import scipy.io as sio\n",
    "import mat73\n",
    "from datetime import datetime, timedelta"
   ]
  },
  {
   "cell_type": "code",
   "execution_count": 3,
   "id": "a3358e1a-7627-4cfc-892c-e00d087f5aa4",
   "metadata": {},
   "outputs": [],
   "source": [
    "import glob\n",
    "import os\n",
    "import time"
   ]
  },
  {
   "cell_type": "code",
   "execution_count": 4,
   "id": "3a20163b-0426-45c1-95bc-1fb8eaa1c0d3",
   "metadata": {},
   "outputs": [],
   "source": [
    "from matplotlib.colors import ListedColormap\n",
    "import numpy as np\n",
    "import matplotlib.pyplot as plt\n",
    "import matplotlib.colors as mcolors\n",
    "from matplotlib import cm\n"
   ]
  },
  {
   "cell_type": "code",
   "execution_count": null,
   "id": "aad22d0a-2396-44fe-8711-e8aed3a685e0",
   "metadata": {},
   "outputs": [],
   "source": []
  },
  {
   "cell_type": "code",
   "execution_count": null,
   "id": "6cb9d178-0624-48f2-8ce5-4ffd0ce783fa",
   "metadata": {},
   "outputs": [],
   "source": []
  },
  {
   "cell_type": "code",
   "execution_count": null,
   "id": "c3e75345-9eef-4f38-a371-e06f72b90da3",
   "metadata": {},
   "outputs": [],
   "source": []
  },
  {
   "cell_type": "code",
   "execution_count": null,
   "id": "5b3511ff-c9d8-4fc6-9ce4-87a3db7bda8a",
   "metadata": {},
   "outputs": [],
   "source": [
    "\n"
   ]
  },
  {
   "cell_type": "code",
   "execution_count": 5,
   "id": "53a78788-b715-457e-91ed-9ec8d11324fb",
   "metadata": {},
   "outputs": [
    {
     "name": "stdout",
     "output_type": "stream",
     "text": [
      "Done\n"
     ]
    }
   ],
   "source": [
    "import os\n",
    "import glob\n",
    "from scipy.io import loadmat\n",
    "\n",
    "# chemin vers le dossier\n",
    "data_dir = '/Users/floriankokoszka/Desktop/data/glider/teresa/GFM/'\n",
    "\n",
    "# trouver tous les fichiers .mat\n",
    "mat_files = glob.glob(os.path.join(data_dir, '*.mat'))\n",
    "\n",
    "# listes pour accumuler les données\n",
    "list_GFM = []\n",
    "list_ts = []\n",
    "list_lon = []\n",
    "list_lat = []\n",
    "list_YYYY = []\n",
    "list_MM = []\n",
    "list_DD = []\n",
    "list_HH = []\n",
    "list_MN = []\n",
    "list_SS = []\n",
    "\n",
    "list_C = []\n",
    "list_T = []\n",
    "list_P = []\n",
    "list_SP = []\n",
    "list_SA = []\n",
    "list_rho = []\n",
    "list_time = []\n",
    "list_aoa = []\n",
    "list_horizontalspeed = []\n",
    "list_verticalspeed = []\n",
    "list_verticalwatervelocity = []\n",
    "\n",
    "list_pitch = []\n",
    "list_roll = []\n",
    "list_buoyancy_change = []\n",
    "           \n",
    "\n",
    "for file in mat_files:\n",
    "    mat = loadmat(file, squeeze_me=True)\n",
    "    # on suppose que la structure s'appelle 'GFM' dans le .mat\n",
    "    G = mat.get('GFM')\n",
    "    if G is None:\n",
    "        print('No GFM')\n",
    "        continue\n",
    "    # extraire les champs\n",
    "    #gm_U = mat.get('GFM')    # gm.U\n",
    "    #tctd = mat.get('timestamp')\n",
    "    #alpha = mat.get('angleofattack')\n",
    "    # accumuler\n",
    "    #list_GFM.append(np.atleast_1d(gm_U))\n",
    "    #list_timestamp.append(np.atleast_1d(tctd))\n",
    "    #list_angle.append(np.atleast_1d(alpha))\n",
    "    \n",
    "    list_GFM.append(np.atleast_1d(mat.get('GFM')))\n",
    "    list_ts.append(np.atleast_1d(mat.get('timestamp')))\n",
    "    list_lon.append(np.atleast_1d(mat.get('lon')))\n",
    "    list_lat.append(np.atleast_1d(mat.get('lat')))\n",
    "    list_YYYY.append(np.atleast_1d(mat.get('YYYY')))\n",
    "    list_MM.append(np.atleast_1d(mat.get('MM')))\n",
    "    list_DD.append(np.atleast_1d(mat.get('DD')))\n",
    "    list_HH.append(np.atleast_1d(mat.get('HH')))\n",
    "    list_MN.append(np.atleast_1d(mat.get('MN')))\n",
    "    list_SS.append(np.atleast_1d(mat.get('SS')))\n",
    "    list_C.append(np.atleast_1d(mat.get('C')))\n",
    "    list_T.append(np.atleast_1d(mat.get('T')))\n",
    "    list_P.append(np.atleast_1d(mat.get('P')))\n",
    "    list_SP.append(np.atleast_1d(mat.get('SP')))\n",
    "    list_SA.append(np.atleast_1d(mat.get('SA')))\n",
    "    list_rho.append(np.atleast_1d(mat.get('rho')))\n",
    "    list_time.append(np.atleast_1d(mat.get('time')))\n",
    "    list_aoa.append(np.atleast_1d(mat.get('angleofattack')))\n",
    "    list_horizontalspeed.append(np.atleast_1d(mat.get('horizontalspeed')))\n",
    "    list_verticalspeed.append(np.atleast_1d(mat.get('erticalspeed')))\n",
    "    list_verticalwatervelocity.append(np.atleast_1d(mat.get('verticalwatervelocity')))\n",
    "    \n",
    "    list_pitch.append(np.atleast_1d(mat.get('pitch')))\n",
    "    list_roll.append(np.atleast_1d(mat.get('roll')))\n",
    "    list_buoyancy_change.append(np.atleast_1d(mat.get('buoyancy_change')))\n",
    "    \n",
    "\n",
    "\n",
    "\n",
    "    GFM_gl = np.concatenate(list_GFM)\n",
    "    ts_gl = np.concatenate(list_ts)\n",
    "    lon_gl = np.concatenate(list_lon)\n",
    "    lat_gl = np.concatenate(list_lat)\n",
    "    YYYY_gl = np.concatenate(list_YYYY)\n",
    "    MM_gl = np.concatenate(list_MM)\n",
    "    DD_gl = np.concatenate(list_DD)\n",
    "    HH_gl = np.concatenate(list_HH)\n",
    "    MN_gl = np.concatenate(list_MN)\n",
    "    SS_gl = np.concatenate(list_SS)\n",
    "    C_gl = np.concatenate(list_C)\n",
    "    T_gl = np.concatenate(list_T)\n",
    "    P_gl = np.concatenate(list_P)\n",
    "    SP_gl = np.concatenate(list_SP)\n",
    "    SA_gl = np.concatenate(list_SA)\n",
    "    rho_gl = np.concatenate(list_rho)\n",
    "    time_gl = np.concatenate(list_time)\n",
    "    aoa_gl = np.concatenate(list_aoa)\n",
    "    hspeed_gl = np.concatenate(list_horizontalspeed)\n",
    "    vspeed_gl = np.concatenate(list_verticalspeed)\n",
    "    vwaterspeed_gl = np.concatenate(list_verticalwatervelocity)\n",
    "    \n",
    "    pitch_gl = np.concatenate(list_pitch)\n",
    "    roll_gl = np.concatenate(list_roll)\n",
    "    buoyancy_change_gl = np.concatenate(list_buoyancy_change)\n",
    "    \n",
    "\n",
    "\n",
    "    \n",
    "print('Done')\n"
   ]
  },
  {
   "cell_type": "code",
   "execution_count": null,
   "id": "395202e4-1437-4cf7-bbcf-fc41ddf659b9",
   "metadata": {},
   "outputs": [],
   "source": []
  },
  {
   "cell_type": "code",
   "execution_count": null,
   "id": "e0d58f03-d49e-4f02-a531-581cbbdf52f7",
   "metadata": {},
   "outputs": [],
   "source": []
  },
  {
   "cell_type": "code",
   "execution_count": null,
   "id": "995f00e5-74b2-4574-b555-9f9e3fdaf7c6",
   "metadata": {},
   "outputs": [],
   "source": []
  },
  {
   "cell_type": "code",
   "execution_count": 6,
   "id": "bfc45b96-c771-44cc-bc85-1363b8f8e9df",
   "metadata": {},
   "outputs": [
    {
     "name": "stdout",
     "output_type": "stream",
     "text": [
      "Unique\n"
     ]
    }
   ],
   "source": [
    "YYYY_gl = np.array(YYYY_gl)\n",
    "MM_gl = np.array(MM_gl)\n",
    "DD_gl = np.array(DD_gl)\n",
    "HH_gl = np.array(HH_gl)\n",
    "MN_gl = np.array(MN_gl)\n",
    "SS_gl = np.array(SS_gl)\n",
    "from datetime import datetime\n",
    "def matlab_datenum(YYYY, MM, DD, HH=0, MN=0, SS=0):\n",
    "    dt = datetime(YYYY, MM, DD, HH, MN, SS)\n",
    "    mdn = dt.toordinal() + 366 + (dt.hour + dt.minute/60 + dt.second/3600)/24\n",
    "    return mdn\n",
    "dn_gl = YYYY_gl*np.nan\n",
    "for l in range(0,len(YYYY_gl)):\n",
    "    dn_gl[l] = matlab_datenum(YYYY_gl[l], MM_gl[l], DD_gl[l], HH_gl[l], MN_gl[l], SS_gl[l])\n",
    "\n",
    "#----------   \n",
    "# Création du temps Unix\n",
    "unix_times = np.array([\n",
    "    datetime(y, m, d, h, mn, s).timestamp()\n",
    "    for y, m, d, h, mn, s in zip(YYYY_gl, MM_gl, DD_gl, HH_gl, MN_gl, SS_gl)\n",
    "])\n",
    "dn_gl = unix_times \n",
    "\n",
    "\n",
    "\n",
    "_, io = np.unique(dn_gl, return_index=True)\n",
    "\n",
    "GFM_gl = np.array(GFM_gl)[io]\n",
    "ts_gl = np.array(ts_gl)[io]\n",
    "lon_gl = np.array(lon_gl)[io]\n",
    "lat_gl = np.array(lat_gl)[io]\n",
    "YYYY_gl = np.array(YYYY_gl)[io]\n",
    "MM_gl = np.array(MM_gl)[io]\n",
    "DD_gl = np.array(DD_gl)[io]\n",
    "HH_gl = np.array(HH_gl)[io]\n",
    "MN_gl = np.array(MN_gl)[io]\n",
    "SS_gl = np.array(SS_gl)[io]\n",
    "C_gl = np.array(C_gl)[io]\n",
    "T_gl = np.array(T_gl)[io]\n",
    "P_gl = np.array(P_gl)[io]\n",
    "SP_gl = np.array(SP_gl)[io]\n",
    "SA_gl = np.array(SA_gl)[io]\n",
    "rho_gl = np.array(rho_gl)[io]\n",
    "time_gl = np.array(time_gl)[io]\n",
    "aoa_gl = np.array(aoa_gl)[io]\n",
    "#hspeed_gl = np.array(hspeed_gl)[io]\n",
    "#vspeed_gl = np.array(vspeed_gl)[io]\n",
    "#vwaterspeed_gl = np.array(vwaterspeed_gl)[io]\n",
    "pitch_gl = np.array(pitch_gl)[io]\n",
    "roll_gl = np.array(roll_gl)[io]\n",
    "buoyancy_change_gl = np.array(buoyancy_change_gl)[io]\n",
    "dn_gl = np.array(dn_gl)[io]\n",
    "    \n",
    "print('Unique')"
   ]
  },
  {
   "cell_type": "code",
   "execution_count": 7,
   "id": "a50e354d-a006-412e-ac6f-9b2cb43c729d",
   "metadata": {},
   "outputs": [],
   "source": [
    "from datetime import datetime\n",
    "import pytz\n",
    "import numpy as np\n",
    "\n",
    "def corriger_offset_timezone(dn_gl, YYYY, MM, DD, HH, MN, SS):\n",
    "    \"\"\"\n",
    "    Applique une correction de fuseau horaire (3600 ou 7200 s) à dn_gl\n",
    "    selon la date locale (Europe/Paris). Retourne dn_gl_corr en UTC.\n",
    "    \"\"\"\n",
    "    tz_local = pytz.timezone(\"Europe/Paris\")\n",
    "\n",
    "    # Calcul de l’offset horaire (en secondes) pour chaque datetime\n",
    "    offsets = np.array([\n",
    "        tz_local.localize(datetime(y, m, d, h, mn, s)).utcoffset().total_seconds()\n",
    "        for y, m, d, h, mn, s in zip(YYYY, MM, DD, HH, MN, SS)\n",
    "    ])\n",
    "\n",
    "    # Application de la correction\n",
    "    dn_gl_corr = dn_gl - offsets\n",
    "\n",
    "    return dn_gl_corr"
   ]
  },
  {
   "cell_type": "code",
   "execution_count": 8,
   "id": "49bb06ed-ca18-44c8-b3e7-acae365fcb3a",
   "metadata": {},
   "outputs": [],
   "source": [
    "# Correction fuseau → UTC\n",
    "dn_gl_utc = corriger_offset_timezone(dn_gl, YYYY_gl, MM_gl, DD_gl, HH_gl, MN_gl, SS_gl)\n"
   ]
  },
  {
   "cell_type": "code",
   "execution_count": null,
   "id": "af016c11-f795-41c9-83f9-a963974109be",
   "metadata": {},
   "outputs": [],
   "source": []
  },
  {
   "cell_type": "code",
   "execution_count": null,
   "id": "a39f9278-dc45-40b0-b08d-99e184310799",
   "metadata": {},
   "outputs": [],
   "source": []
  },
  {
   "cell_type": "code",
   "execution_count": null,
   "id": "c74722e0-20db-4800-bfd3-c3f2edf1f2e3",
   "metadata": {},
   "outputs": [],
   "source": []
  },
  {
   "cell_type": "code",
   "execution_count": 77,
   "id": "f304fce8-b2a3-4e5a-be5e-1e8996f893cc",
   "metadata": {},
   "outputs": [
    {
     "data": {
      "text/plain": [
       "[<matplotlib.lines.Line2D at 0x7fadc8601e20>]"
      ]
     },
     "execution_count": 77,
     "metadata": {},
     "output_type": "execute_result"
    },
    {
     "data": {
      "image/png": "[encoded data removed]",
      "text/plain": [
       "<Figure size 432x288 with 1 Axes>"
      ]
     },
     "metadata": {
      "needs_background": "light"
     },
     "output_type": "display_data"
    }
   ],
   "source": [
    "plt.plot(dn_gl_utc-dn_gl)"
   ]
  },
  {
   "cell_type": "code",
   "execution_count": 16,
   "id": "1c7d21a4-5956-4286-adcc-db21a3746c67",
   "metadata": {},
   "outputs": [
    {
     "data": {
      "text/plain": [
       "Text(0, 0.5, 'lat')"
      ]
     },
     "execution_count": 16,
     "metadata": {},
     "output_type": "execute_result"
    },
    {
     "data": {
      "image/png": "[encoded data removed]",
      "text/plain": [
       "<Figure size 432x288 with 1 Axes>"
      ]
     },
     "metadata": {
      "needs_background": "light"
     },
     "output_type": "display_data"
    }
   ],
   "source": [
    "plt.plot(lon_gl,lat_gl,'.')\n",
    "plt.xlabel('lon')\n",
    "plt.ylabel('lat')"
   ]
  },
  {
   "cell_type": "code",
   "execution_count": 13,
   "id": "1f1135c6-9c72-4128-a797-da5b93de0649",
   "metadata": {},
   "outputs": [
    {
     "data": {
      "image/png": "[encoded data removed]",
      "text/plain": [
       "<Figure size 432x288 with 1 Axes>"
      ]
     },
     "metadata": {
      "needs_background": "light"
     },
     "output_type": "display_data"
    }
   ],
   "source": [
    "plt.hist(lat_gl,bins=np.arange(39,40,.01))\n",
    "plt.grid()"
   ]
  },
  {
   "cell_type": "code",
   "execution_count": 17,
   "id": "15d4819d-fc1d-476a-8f24-ce71fb71e847",
   "metadata": {},
   "outputs": [
    {
     "data": {
      "text/plain": [
       "Text(0, 0.5, 'COUNT')"
      ]
     },
     "execution_count": 17,
     "metadata": {},
     "output_type": "execute_result"
    },
    {
     "data": {
      "image/png": "[encoded data removed]",
      "text/plain": [
       "<Figure size 432x288 with 1 Axes>"
      ]
     },
     "metadata": {
      "needs_background": "light"
     },
     "output_type": "display_data"
    }
   ],
   "source": [
    "plt.hist(lon_gl,bins=np.arange(3,8.5,.01))\n",
    "plt.grid()\n",
    "plt.xlabel('lon (bins)')\n",
    "plt.ylabel('COUNT')"
   ]
  },
  {
   "cell_type": "code",
   "execution_count": 11,
   "id": "ed69e0cf-ac6c-4198-b6e3-fc3f984be2fd",
   "metadata": {},
   "outputs": [
    {
     "data": {
      "image/png": "[encoded data removed]",
      "text/plain": [
       "<Figure size 432x288 with 1 Axes>"
      ]
     },
     "metadata": {
      "needs_background": "light"
     },
     "output_type": "display_data"
    }
   ],
   "source": [
    "plt.hist(ts_gl)\n",
    "plt.grid()"
   ]
  },
  {
   "cell_type": "code",
   "execution_count": null,
   "id": "e8d0505e-f8a7-40bf-891e-d6eadaad0202",
   "metadata": {},
   "outputs": [],
   "source": []
  },
  {
   "cell_type": "code",
   "execution_count": 62,
   "id": "cc1caf19-2f52-484e-bae9-8c8c2ef1f23e",
   "metadata": {},
   "outputs": [
    {
     "data": {
      "text/plain": [
       "10"
      ]
     },
     "execution_count": 62,
     "metadata": {},
     "output_type": "execute_result"
    }
   ],
   "source": [
    "len(lat_gl)\n",
    "len(aoa_gl)\n",
    "len(vwaterspeed_gl)\n",
    "#len(vspeed_gl)"
   ]
  },
  {
   "cell_type": "code",
   "execution_count": 64,
   "id": "d0b54da9-266d-43c6-ab91-7770f878350a",
   "metadata": {},
   "outputs": [
    {
     "data": {
      "text/plain": [
       "[<matplotlib.lines.Line2D at 0x7fadc86285b0>]"
      ]
     },
     "execution_count": 64,
     "metadata": {},
     "output_type": "execute_result"
    },
    {
     "data": {
      "image/png": "[encoded data removed]",
      "text/plain": [
       "<Figure size 432x288 with 1 Axes>"
      ]
     },
     "metadata": {
      "needs_background": "light"
     },
     "output_type": "display_data"
    }
   ],
   "source": [
    "plt.plot(np.degrees(pitch_gl))\n"
   ]
  },
  {
   "cell_type": "code",
   "execution_count": 78,
   "id": "392fcbaa-3cbd-49b5-a8f6-16cdcf2c7eed",
   "metadata": {},
   "outputs": [
    {
     "name": "stdout",
     "output_type": "stream",
     "text": [
      "Sorted\n"
     ]
    }
   ],
   "source": [
    "io = np.argsort(dn_gl)\n",
    "\n",
    "GFM_gl = np.array(GFM_gl)[io]\n",
    "ts_gl = np.array(ts_gl)[io]\n",
    "lon_gl = np.array(lon_gl)[io]\n",
    "lat_gl = np.array(lat_gl)[io]\n",
    "YYYY_gl = np.array(YYYY_gl)[io]\n",
    "MM_gl = np.array(MM_gl)[io]\n",
    "DD_gl = np.array(DD_gl)[io]\n",
    "HH_gl = np.array(HH_gl)[io]\n",
    "MN_gl = np.array(MN_gl)[io]\n",
    "SS_gl = np.array(SS_gl)[io]\n",
    "C_gl = np.array(C_gl)[io]\n",
    "T_gl = np.array(T_gl)[io]\n",
    "P_gl = np.array(P_gl)[io]\n",
    "SP_gl = np.array(SP_gl)[io]\n",
    "SA_gl = np.array(SA_gl)[io]\n",
    "rho_gl = np.array(rho_gl)[io]\n",
    "time_gl = np.array(time_gl)[io]\n",
    "aoa_gl = np.array(aoa_gl)[io]\n",
    "#hspeed_gl = np.array(hspeed_gl)[io]\n",
    "#vspeed_gl = np.array(vspeed_gl)[io]\n",
    "#vwaterspeed_gl = np.array(vwaterspeed_gl)[io]\n",
    "pitch_gl = np.array(pitch_gl)[io]\n",
    "roll_gl = np.array(roll_gl)[io]\n",
    "buoyancy_change_gl = np.array(buoyancy_change_gl)[io]\n",
    "dn_gl = np.array(dn_gl)[io]\n",
    "dn_gl_utc = np.array(dn_gl_utc)[io]\n",
    "\n",
    "print('Sorted')\n",
    "\n",
    "\n",
    "\n",
    "\n",
    "io = np.where(np.isnan(GFM_gl)==False)[0]\n",
    "GFM_gl = np.array(GFM_gl)[io]\n",
    "ts_gl = np.array(ts_gl)[io]\n",
    "lon_gl = np.array(lon_gl)[io]\n",
    "lat_gl = np.array(lat_gl)[io]\n",
    "YYYY_gl = np.array(YYYY_gl)[io]\n",
    "MM_gl = np.array(MM_gl)[io]\n",
    "DD_gl = np.array(DD_gl)[io]\n",
    "HH_gl = np.array(HH_gl)[io]\n",
    "MN_gl = np.array(MN_gl)[io]\n",
    "SS_gl = np.array(SS_gl)[io]\n",
    "C_gl = np.array(C_gl)[io]\n",
    "T_gl = np.array(T_gl)[io]\n",
    "P_gl = np.array(P_gl)[io]\n",
    "SP_gl = np.array(SP_gl)[io]\n",
    "SA_gl = np.array(SA_gl)[io]\n",
    "rho_gl = np.array(rho_gl)[io]\n",
    "time_gl = np.array(time_gl)[io]\n",
    "aoa_gl = np.array(aoa_gl)[io]\n",
    "#hspeed_gl = np.array(hspeed_gl)[io]\n",
    "#vspeed_gl = np.array(vspeed_gl)[io]\n",
    "#vwaterspeed_gl = np.array(vwaterspeed_gl)[io]\n",
    "pitch_gl = np.array(pitch_gl)[io]\n",
    "roll_gl = np.array(roll_gl)[io]\n",
    "buoyancy_change_gl = np.array(buoyancy_change_gl)[io]\n",
    "\n",
    "dn_gl = np.array(dn_gl)[io]\n",
    "dn_gl_utc = np.array(dn_gl_utc)[io]\n",
    "\n",
    "print('UnNaNeD')"
   ]
  },
  {
   "cell_type": "code",
   "execution_count": null,
   "id": "489f6204-72e7-4753-913e-8e678bd2c484",
   "metadata": {},
   "outputs": [],
   "source": []
  },
  {
   "cell_type": "code",
   "execution_count": null,
   "id": "166457c3-1cab-4f12-9106-ff4c754f0426",
   "metadata": {},
   "outputs": [],
   "source": []
  },
  {
   "cell_type": "code",
   "execution_count": 79,
   "id": "6a79e53c-696b-49c0-b9e3-52d814cf2d06",
   "metadata": {},
   "outputs": [
    {
     "name": "stdout",
     "output_type": "stream",
     "text": [
      "UnNaNeD\n"
     ]
    }
   ],
   "source": []
  },
  {
   "cell_type": "code",
   "execution_count": null,
   "id": "4038ea78-a3c8-4f44-b9d3-71710e9f3333",
   "metadata": {},
   "outputs": [],
   "source": []
  },
  {
   "cell_type": "code",
   "execution_count": 80,
   "id": "2d857976-ac4f-47eb-bbab-659b44548f18",
   "metadata": {},
   "outputs": [
    {
     "name": "stdout",
     "output_type": "stream",
     "text": [
      "2015-08-11 16:21:25.591350\n",
      "2024-07-04 09:37:29.435970\n"
     ]
    }
   ],
   "source": [
    "datetime.fromtimestamp(ts_gl[0])\n",
    "datetime.fromtimestamp(ts_gl[-1])\n",
    "print(datetime.fromtimestamp(np.nanmin(ts_gl)))\n",
    "print(datetime.fromtimestamp(np.nanmax(ts_gl)))"
   ]
  },
  {
   "cell_type": "markdown",
   "id": "cd64ccbe-398a-4820-8f5a-d82452432701",
   "metadata": {
    "jp-MarkdownHeadingCollapsed": true,
    "tags": []
   },
   "source": [
    "### SAVE HOTEL"
   ]
  },
  {
   "cell_type": "markdown",
   "id": "f628ea37-933d-48bf-91f1-6c8a0db16a6e",
   "metadata": {
    "tags": []
   },
   "source": [
    "### GPS"
   ]
  },
  {
   "cell_type": "code",
   "execution_count": 19,
   "id": "13e96760-d1f9-4533-89d2-3b9778a0e255",
   "metadata": {},
   "outputs": [
    {
     "name": "stdout",
     "output_type": "stream",
     "text": [
      "Done\n"
     ]
    }
   ],
   "source": [
    "import os\n",
    "import glob\n",
    "from scipy.io import loadmat\n",
    "\n",
    "# chemin vers le dossier\n",
    "data_dir = '/Users/floriankokoszka/Desktop/data/glider/teresa/GPS/'\n",
    "\n",
    "# trouver tous les fichiers .mat\n",
    "mat_files = glob.glob(os.path.join(data_dir, '*.mat'))\n",
    "\n",
    "# listes pour accumuler les données\n",
    "list_ts = []\n",
    "list_lon = []\n",
    "list_lat = []\n",
    "list_YYYY = []\n",
    "list_MM = []\n",
    "list_DD = []\n",
    "list_HH = []\n",
    "list_MN = []\n",
    "list_SS = []\n",
    "\n",
    "           \n",
    "\n",
    "for file in mat_files:\n",
    "    mat = loadmat(file, squeeze_me=True)\n",
    "    \n",
    "    \n",
    "    list_ts.append(np.atleast_1d(mat.get('timestamp')))\n",
    "    list_lon.append(np.atleast_1d(mat.get('lon')))\n",
    "    list_lat.append(np.atleast_1d(mat.get('lat')))\n",
    "    list_YYYY.append(np.atleast_1d(mat.get('YYYY')))\n",
    "    list_MM.append(np.atleast_1d(mat.get('MM')))\n",
    "    list_DD.append(np.atleast_1d(mat.get('DD')))\n",
    "    list_HH.append(np.atleast_1d(mat.get('HH')))\n",
    "    list_MN.append(np.atleast_1d(mat.get('MN')))\n",
    "    list_SS.append(np.atleast_1d(mat.get('SS')))\n",
    "    \n",
    "\n",
    "\n",
    "\n",
    "    ts_gl = np.concatenate(list_ts)\n",
    "    lon_gl = np.concatenate(list_lon)\n",
    "    lat_gl = np.concatenate(list_lat)\n",
    "    YYYY_gl = np.concatenate(list_YYYY)\n",
    "    MM_gl = np.concatenate(list_MM)\n",
    "    DD_gl = np.concatenate(list_DD)\n",
    "    HH_gl = np.concatenate(list_HH)\n",
    "    MN_gl = np.concatenate(list_MN)\n",
    "    SS_gl = np.concatenate(list_SS)\n",
    "    \n",
    "    \n",
    "\n",
    "\n",
    "    \n",
    "print('Done')\n"
   ]
  },
  {
   "cell_type": "code",
   "execution_count": 20,
   "id": "86702305-f8fc-4a94-ba47-e9b782e59b2d",
   "metadata": {},
   "outputs": [
    {
     "name": "stdout",
     "output_type": "stream",
     "text": [
      "Unique\n"
     ]
    }
   ],
   "source": [
    "YYYY_gl = np.array(YYYY_gl)\n",
    "MM_gl = np.array(MM_gl)\n",
    "DD_gl = np.array(DD_gl)\n",
    "HH_gl = np.array(HH_gl)\n",
    "MN_gl = np.array(MN_gl)\n",
    "SS_gl = np.array(SS_gl)\n",
    "from datetime import datetime\n",
    "def matlab_datenum(YYYY, MM, DD, HH=0, MN=0, SS=0):\n",
    "    dt = datetime(YYYY, MM, DD, HH, MN, SS)\n",
    "    mdn = dt.toordinal() + 366 + (dt.hour + dt.minute/60 + dt.second/3600)/24\n",
    "    return mdn\n",
    "dn_gl = YYYY_gl*np.nan\n",
    "for l in range(0,len(YYYY_gl)):\n",
    "    dn_gl[l] = matlab_datenum(YYYY_gl[l], MM_gl[l], DD_gl[l], HH_gl[l], MN_gl[l], SS_gl[l])\n",
    "\n",
    "#----------   \n",
    "# Création du temps Unix\n",
    "unix_times = np.array([\n",
    "    datetime(y, m, d, h, mn, s).timestamp()\n",
    "    for y, m, d, h, mn, s in zip(YYYY_gl, MM_gl, DD_gl, HH_gl, MN_gl, SS_gl)\n",
    "])\n",
    "dn_gl = unix_times \n",
    "\n",
    "\n",
    "\n",
    "_, io = np.unique(dn_gl, return_index=True)\n",
    "\n",
    "ts_gl = np.array(ts_gl)[io]\n",
    "lon_gl = np.array(lon_gl)[io]\n",
    "lat_gl = np.array(lat_gl)[io]\n",
    "YYYY_gl = np.array(YYYY_gl)[io]\n",
    "MM_gl = np.array(MM_gl)[io]\n",
    "DD_gl = np.array(DD_gl)[io]\n",
    "HH_gl = np.array(HH_gl)[io]\n",
    "MN_gl = np.array(MN_gl)[io]\n",
    "SS_gl = np.array(SS_gl)[io]\n",
    "\n",
    "dn_gl = np.array(dn_gl)[io]\n",
    "    \n",
    "print('Unique')"
   ]
  },
  {
   "cell_type": "code",
   "execution_count": 21,
   "id": "37a700cd-5a04-4412-a044-a2274dda291c",
   "metadata": {},
   "outputs": [],
   "source": [
    "dn_gl_utc = corriger_offset_timezone(dn_gl, YYYY_gl, MM_gl, DD_gl, HH_gl, MN_gl, SS_gl)\n"
   ]
  },
  {
   "cell_type": "code",
   "execution_count": 22,
   "id": "301261d0-c789-4fbd-9320-8b57858cab44",
   "metadata": {},
   "outputs": [
    {
     "name": "stdout",
     "output_type": "stream",
     "text": [
      "Sorted\n",
      "UnNaNeD\n"
     ]
    }
   ],
   "source": [
    "io = np.argsort(dn_gl)\n",
    "\n",
    "\n",
    "ts_gl = np.array(ts_gl)[io]\n",
    "lon_gl = np.array(lon_gl)[io]\n",
    "lat_gl = np.array(lat_gl)[io]\n",
    "YYYY_gl = np.array(YYYY_gl)[io]\n",
    "MM_gl = np.array(MM_gl)[io]\n",
    "DD_gl = np.array(DD_gl)[io]\n",
    "HH_gl = np.array(HH_gl)[io]\n",
    "MN_gl = np.array(MN_gl)[io]\n",
    "SS_gl = np.array(SS_gl)[io]\n",
    "\n",
    "dn_gl = np.array(dn_gl)[io]\n",
    "dn_gl_utc = np.array(dn_gl_utc)[io]\n",
    "\n",
    "print('Sorted')\n",
    "\n",
    "\n",
    "\n",
    "\n",
    "io = np.where(np.isnan(dn_gl)==False)[0]\n",
    "ts_gl = np.array(ts_gl)[io]\n",
    "lon_gl = np.array(lon_gl)[io]\n",
    "lat_gl = np.array(lat_gl)[io]\n",
    "YYYY_gl = np.array(YYYY_gl)[io]\n",
    "MM_gl = np.array(MM_gl)[io]\n",
    "DD_gl = np.array(DD_gl)[io]\n",
    "HH_gl = np.array(HH_gl)[io]\n",
    "MN_gl = np.array(MN_gl)[io]\n",
    "SS_gl = np.array(SS_gl)[io]\n",
    "\n",
    "\n",
    "dn_gl = np.array(dn_gl)[io]\n",
    "dn_gl_utc = np.array(dn_gl_utc)[io]\n",
    "\n",
    "print('UnNaNeD')"
   ]
  },
  {
   "cell_type": "code",
   "execution_count": 23,
   "id": "f7964fba-abb9-4519-96c3-8849a5735e12",
   "metadata": {},
   "outputs": [
    {
     "data": {
      "image/png": "[encoded data removed]",
      "text/plain": [
       "<Figure size 432x288 with 1 Axes>"
      ]
     },
     "metadata": {
      "needs_background": "light"
     },
     "output_type": "display_data"
    }
   ],
   "source": [
    "xax = np.arange(0,len(lon_gl),1000) ; \n",
    "plt.scatter(lon_gl[xax],lat_gl[xax],s=3,c=ts_gl[xax],marker='.')\n",
    "plt.grid()"
   ]
  },
  {
   "cell_type": "code",
   "execution_count": null,
   "id": "63f3369d-b037-425a-ad95-1ac3822e1cfe",
   "metadata": {},
   "outputs": [],
   "source": []
  },
  {
   "cell_type": "code",
   "execution_count": null,
   "id": "fef605c0-8800-4fe1-bf31-fcdf10d9524a",
   "metadata": {},
   "outputs": [],
   "source": []
  },
  {
   "cell_type": "markdown",
   "id": "701b5c0f-657d-48d5-82ec-f20fcfeac458",
   "metadata": {
    "tags": []
   },
   "source": [
    "### SAVE HOTEL"
   ]
  },
  {
   "cell_type": "code",
   "execution_count": 37,
   "id": "b1de688e-39a9-4d0b-a5d3-955deff8edfe",
   "metadata": {},
   "outputs": [],
   "source": [
    "dn = dn_gl*1\n",
    "#dn = dn_gl_utc * 1 \n",
    "\n",
    "X2  = {'data':lon_gl, 'time':dn}\n",
    "X3  = {'data':lat_gl, 'time':dn }\n",
    "\n"
   ]
  },
  {
   "cell_type": "code",
   "execution_count": 42,
   "id": "23756578-a771-40bc-902b-9382963e4d75",
   "metadata": {},
   "outputs": [],
   "source": [
    "dn = ts_gl*1\n",
    "#dn = dn_gl_utc * 1 \n",
    "\n",
    "X2  = {'data':lon_gl, 'time':dn}\n",
    "X3  = {'data':lat_gl, 'time':dn }\n"
   ]
  },
  {
   "cell_type": "code",
   "execution_count": 43,
   "id": "4f5c43f4-36ce-4075-bf5d-3e5ede9e8e6a",
   "metadata": {},
   "outputs": [],
   "source": [
    "X_list = [ X2, X3] #X5, X6, X7\n",
    "\n",
    "for i, Xi in enumerate(X_list, start=1):\n",
    "    for key in ['data', 'time']:\n",
    "        if Xi.get(key) is None:\n",
    "            print(f\"X{i}.{key} is None\")"
   ]
  },
  {
   "cell_type": "code",
   "execution_count": 44,
   "id": "d493b858-cd70-4b7b-bd11-62f5263b38ee",
   "metadata": {},
   "outputs": [],
   "source": [
    "for i, Xi in enumerate(X_list, start=1):\n",
    "    for key in ['data', 'time']:\n",
    "        arr = Xi.get(key)\n",
    "        if isinstance(arr, np.ndarray) and arr.dtype == object:\n",
    "            if any(x is None for x in arr):\n",
    "                print(f\"X{i}.{key} contient des None dans le tableau\")\n"
   ]
  },
  {
   "cell_type": "code",
   "execution_count": null,
   "id": "f70309ef-7a0a-455d-9c11-31c767b94118",
   "metadata": {},
   "outputs": [],
   "source": []
  },
  {
   "cell_type": "code",
   "execution_count": 45,
   "id": "34444793-f15c-40e2-98ae-f317524c252b",
   "metadata": {},
   "outputs": [],
   "source": [
    "hotel = { 'lon_gl': X2, 'lat_gl': X3, \n",
    "        \n",
    "        }"
   ]
  },
  {
   "cell_type": "code",
   "execution_count": 46,
   "id": "446987a2-2273-4a1b-820b-ea9954e49037",
   "metadata": {},
   "outputs": [
    {
     "name": "stdout",
     "output_type": "stream",
     "text": [
      "slocum_glider_teresa_gps_for_MR \n",
      "S A V E D\n"
     ]
    }
   ],
   "source": [
    "from scipy.io import savemat\n",
    "       \n",
    "#\n",
    "out_dir1 = '/Users/floriankokoszka/Desktop/data/glider/teresa/HOTEL/'\n",
    "out_dir2 = '/Volumes/DENISE/data/glider/teresa/glider/HOTEL/'\n",
    "out_dir2 = '/Volumes/ORSO/TERESA/glider/GPS/'\n",
    "\n",
    "out_nam = 'slocum_glider_teresa_gps_for_MR'\n",
    "#out_nam = 'slocum_glider_teresa_gps_for_MR_UTC'\n",
    "#\n",
    "#savemat(out_dir+out_nam+'.mat', {'hotel':hotel})\n",
    "savemat(out_dir1+out_nam+'.mat', hotel)\n",
    "savemat(out_dir2+out_nam+'.mat', hotel)\n",
    "\n",
    "print(out_nam,'\\nS A V E D')\n",
    "\n"
   ]
  },
  {
   "cell_type": "code",
   "execution_count": 48,
   "id": "889130cf-7039-4982-8c3d-1ddddb3adb7d",
   "metadata": {},
   "outputs": [],
   "source": [
    "df = pd.DataFrame()\n",
    "df['ts_gl'] = ts_gl ; \n",
    "df['lon_gl'] = lon_gl ; \n",
    "df['lat_gl'] = lat_gl ; \n",
    "\n",
    "FNAME = 'df_GPS.csv' \n",
    "df.to_csv(out_dir2+FNAME, index = False)\n",
    "print(out_nam,'\\nS A V E D')\n"
   ]
  },
  {
   "cell_type": "code",
   "execution_count": 49,
   "id": "364beb17-8ad6-411b-8fb2-b837b755335a",
   "metadata": {},
   "outputs": [
    {
     "data": {
      "text/html": [
       "<div>\n",
       "<style scoped>\n",
       "    .dataframe tbody tr th:only-of-type {\n",
       "        vertical-align: middle;\n",
       "    }\n",
       "\n",
       "    .dataframe tbody tr th {\n",
       "        vertical-align: top;\n",
       "    }\n",
       "\n",
       "    .dataframe thead th {\n",
       "        text-align: right;\n",
       "    }\n",
       "</style>\n",
       "<table border=\"1\" class=\"dataframe\">\n",
       "  <thead>\n",
       "    <tr style=\"text-align: right;\">\n",
       "      <th></th>\n",
       "      <th>ts_gl</th>\n",
       "      <th>lon_gl</th>\n",
       "      <th>lat_gl</th>\n",
       "    </tr>\n",
       "  </thead>\n",
       "  <tbody>\n",
       "    <tr>\n",
       "      <th>0</th>\n",
       "      <td>1.439303e+09</td>\n",
       "      <td>7.817048</td>\n",
       "      <td>39.803115</td>\n",
       "    </tr>\n",
       "    <tr>\n",
       "      <th>1</th>\n",
       "      <td>1.439303e+09</td>\n",
       "      <td>7.817048</td>\n",
       "      <td>39.803115</td>\n",
       "    </tr>\n",
       "    <tr>\n",
       "      <th>2</th>\n",
       "      <td>1.439303e+09</td>\n",
       "      <td>7.817048</td>\n",
       "      <td>39.803115</td>\n",
       "    </tr>\n",
       "    <tr>\n",
       "      <th>3</th>\n",
       "      <td>1.439303e+09</td>\n",
       "      <td>7.817048</td>\n",
       "      <td>39.803115</td>\n",
       "    </tr>\n",
       "    <tr>\n",
       "      <th>4</th>\n",
       "      <td>1.439303e+09</td>\n",
       "      <td>7.817048</td>\n",
       "      <td>39.803115</td>\n",
       "    </tr>\n",
       "    <tr>\n",
       "      <th>...</th>\n",
       "      <td>...</td>\n",
       "      <td>...</td>\n",
       "      <td>...</td>\n",
       "    </tr>\n",
       "    <tr>\n",
       "      <th>8749478</th>\n",
       "      <td>1.720079e+09</td>\n",
       "      <td>2.560401</td>\n",
       "      <td>39.347899</td>\n",
       "    </tr>\n",
       "    <tr>\n",
       "      <th>8749479</th>\n",
       "      <td>1.720079e+09</td>\n",
       "      <td>2.560401</td>\n",
       "      <td>39.347897</td>\n",
       "    </tr>\n",
       "    <tr>\n",
       "      <th>8749480</th>\n",
       "      <td>1.720079e+09</td>\n",
       "      <td>2.560401</td>\n",
       "      <td>39.347893</td>\n",
       "    </tr>\n",
       "    <tr>\n",
       "      <th>8749481</th>\n",
       "      <td>1.720079e+09</td>\n",
       "      <td>2.560401</td>\n",
       "      <td>39.347890</td>\n",
       "    </tr>\n",
       "    <tr>\n",
       "      <th>8749482</th>\n",
       "      <td>1.720079e+09</td>\n",
       "      <td>2.560401</td>\n",
       "      <td>39.347888</td>\n",
       "    </tr>\n",
       "  </tbody>\n",
       "</table>\n",
       "<p>8749483 rows × 3 columns</p>\n",
       "</div>"
      ],
      "text/plain": [
       "                ts_gl    lon_gl     lat_gl\n",
       "0        1.439303e+09  7.817048  39.803115\n",
       "1        1.439303e+09  7.817048  39.803115\n",
       "2        1.439303e+09  7.817048  39.803115\n",
       "3        1.439303e+09  7.817048  39.803115\n",
       "4        1.439303e+09  7.817048  39.803115\n",
       "...               ...       ...        ...\n",
       "8749478  1.720079e+09  2.560401  39.347899\n",
       "8749479  1.720079e+09  2.560401  39.347897\n",
       "8749480  1.720079e+09  2.560401  39.347893\n",
       "8749481  1.720079e+09  2.560401  39.347890\n",
       "8749482  1.720079e+09  2.560401  39.347888\n",
       "\n",
       "[8749483 rows x 3 columns]"
      ]
     },
     "execution_count": 49,
     "metadata": {},
     "output_type": "execute_result"
    }
   ],
   "source": [
    "df"
   ]
  },
  {
   "cell_type": "code",
   "execution_count": null,
   "id": "d3239bfe-4ca0-49c8-8ba7-7f9b6bc1055a",
   "metadata": {},
   "outputs": [],
   "source": []
  },
  {
   "cell_type": "code",
   "execution_count": null,
   "id": "8961c67a-6c9a-4619-8b64-d08a17786a99",
   "metadata": {},
   "outputs": [],
   "source": []
  },
  {
   "cell_type": "code",
   "execution_count": null,
   "id": "6329df50-8782-4a13-b8e4-3c5df466248d",
   "metadata": {},
   "outputs": [],
   "source": []
  }
 ],
 "metadata": {
  "kernelspec": {
   "display_name": "Python 3",
   "language": "python",
   "name": "python3"
  },
  "language_info": {
   "codemirror_mode": {
    "name": "ipython",
    "version": 3
   },
   "file_extension": ".py",
   "mimetype": "text/x-python",
   "name": "python",
   "nbconvert_exporter": "python",
   "pygments_lexer": "ipython3",
   "version": "3.8.5"
  }
 },
 "nbformat": 4,
 "nbformat_minor": 5
}
