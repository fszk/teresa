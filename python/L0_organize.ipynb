{
 "cells": [
  {
   "cell_type": "code",
   "execution_count": 1,
   "id": "533ce124-2593-4ff8-80bc-ce165c5e637c",
   "metadata": {},
   "outputs": [
    {
     "name": "stdout",
     "output_type": "stream",
     "text": [
      "/Users/floriankokoszka/Desktop/notebooks\n"
     ]
    }
   ],
   "source": [
    "%cd /Users/floriankokoszka/Desktop/notebooks\n",
    "%pwd\n",
    "\n",
    "%run mc_startup.ipynb\n",
    "%run myfunctions.ipynb\n",
    "\n",
    "import os\n",
    "\n",
    "def iserror(func, *args, **kw):\n",
    "    try:\n",
    "        func(*args, **kw)\n",
    "        return False\n",
    "    except Exception:\n",
    "        return True\n",
    "\n",
    "def isfloat(num):\n",
    "    try:\n",
    "        float(num)\n",
    "        return True\n",
    "    except ValueError:\n",
    "        return False\n",
    "    \n",
    "    \n",
    "import scipy.io as sio\n",
    "\n",
    "import glob\n",
    "import os\n",
    "import time"
   ]
  },
  {
   "cell_type": "code",
   "execution_count": 2,
   "id": "f61a1158-7b39-4ebf-b614-c4a69bd1e5a0",
   "metadata": {},
   "outputs": [],
   "source": [
    "data_pth = '/Volumes/ORSO/TERESA/microrider/data/' \n",
    "mird_pth = '/Volumes/ORSO/TERESA/microrider/' "
   ]
  },
  {
   "cell_type": "code",
   "execution_count": 2,
   "id": "6c05060d-5475-4ccf-a19f-f22518d2a577",
   "metadata": {},
   "outputs": [],
   "source": [
    "data_pth = '/Volumes/DENISE/data/glider/teresa/microrider/data/' \n",
    "mird_pth = '/Volumes/DENISE/data/glider/teresa/microrider/' "
   ]
  },
  {
   "cell_type": "code",
   "execution_count": 3,
   "id": "eec0c2f2-a57d-4831-927d-176bbd8676b1",
   "metadata": {},
   "outputs": [
    {
     "data": {
      "text/plain": [
       "array(['teresa_microrider_2015_agosto', 'teresa_microrider_2015_july',\n",
       "       'teresa_microrider_2017_marzo_aprile',\n",
       "       'teresa_microrider_2017_MISC', 'teresa_microrider_2018_maggio',\n",
       "       'teresa_microrider_2022', 'teresa_microrider_2023',\n",
       "       'teresa_microrider_2020',\n",
       "       'teresa_microrider_2024_maggio_giugno_luglio24'], dtype='<U45')"
      ]
     },
     "execution_count": 3,
     "metadata": {},
     "output_type": "execute_result"
    }
   ],
   "source": [
    "dir_list = os.listdir(data_pth)\n",
    "dirs = []\n",
    "for i in range(0,len(dir_list)):\n",
    "    if dir_list[i].startswith('.') == False:\n",
    "        dirs.append(dir_list[i])\n",
    "dir_list = np.array(dirs)\n",
    "\n",
    "## seulement 2020\n",
    "#\n",
    "#dir_list = [dir_list[7]]\n",
    "\n",
    "# 2022\n",
    "# dir_list = [dir_list[5]]\n",
    "dir_list\n",
    "\n"
   ]
  },
  {
   "cell_type": "code",
   "execution_count": 11,
   "id": "9e220070-b384-4cf2-9c63-079b0ca0e7ef",
   "metadata": {},
   "outputs": [
    {
     "data": {
      "text/plain": [
       "9"
      ]
     },
     "execution_count": 11,
     "metadata": {},
     "output_type": "execute_result"
    }
   ],
   "source": [
    "len(dir_list)"
   ]
  },
  {
   "cell_type": "code",
   "execution_count": 12,
   "id": "9897c144-456e-44e8-aeb6-a6a72eea9dd8",
   "metadata": {},
   "outputs": [
    {
     "data": {
      "text/plain": [
       "['teresa_microrider_2024_maggio_giugno_luglio24']"
      ]
     },
     "execution_count": 12,
     "metadata": {},
     "output_type": "execute_result"
    }
   ],
   "source": [
    "dir_list = [dir_list[-1]]\n",
    "dir_list\n",
    "\n"
   ]
  },
  {
   "cell_type": "code",
   "execution_count": 4,
   "id": "eb36b3f5-abe0-468f-925b-cdcd61cf58f7",
   "metadata": {},
   "outputs": [
    {
     "name": "stdout",
     "output_type": "stream",
     "text": [
      "/Volumes/ORSO/TERESA/microrider/data/teresa_microrider_2015_agosto/data/\n",
      "/Volumes/ORSO/TERESA/microrider/data/teresa_microrider_2015_july/data/\n",
      "/Volumes/ORSO/TERESA/microrider/data/teresa_microrider_2017_marzo_aprile/data/\n",
      "/Volumes/ORSO/TERESA/microrider/data/teresa_microrider_2017_MISC/data/\n",
      "/Volumes/ORSO/TERESA/microrider/data/teresa_microrider_2018_maggio/data/\n",
      "/Volumes/ORSO/TERESA/microrider/data/teresa_microrider_2022/data/\n",
      "/Volumes/ORSO/TERESA/microrider/data/teresa_microrider_2023/data/\n",
      "/Volumes/ORSO/TERESA/microrider/data/teresa_microrider_2020/data/\n",
      "/Volumes/ORSO/TERESA/microrider/data/teresa_microrider_2024_maggio_giugno_luglio24/data/\n",
      "lists 956\n"
     ]
    }
   ],
   "source": [
    "import glob\n",
    "import os\n",
    "import time\n",
    "\n",
    "P = []\n",
    "for d in range(0,len(dir_list)):\n",
    "    \n",
    "    #d = 7\n",
    "    dir_pth = data_pth + dir_list[d] +'/data/'\n",
    "    print(dir_pth)\n",
    "\n",
    "    \n",
    "    filetyp = '.P'\n",
    "    liste = []\n",
    "    #\n",
    "    for x in os.listdir(dir_pth):\n",
    "        if (x.endswith(filetyp)) and (x[0] != '.') and ('_original' not in x):\n",
    "            liste.append(dir_pth+x)\n",
    "    liste = sorted( liste)\n",
    "    liste_P = liste\n",
    "    #\n",
    "    P_liste = []\n",
    "    for i in range(0,len(liste_P)):\n",
    "        P_liste.append(liste_P[i].split('/')[-1][0:-2])\n",
    "\n",
    "\n",
    "   \n",
    "\n",
    "    #----------------------------------\n",
    "    P = P + liste_P \n",
    "\n",
    "\n",
    "print('lists',len(P))"
   ]
  },
  {
   "cell_type": "code",
   "execution_count": 5,
   "id": "782c3bd1-f435-42ea-9286-ece3a5560a6d",
   "metadata": {},
   "outputs": [],
   "source": [
    "import os\n",
    "import datetime\n",
    "\n",
    "\n",
    "# Function to process file paths\n",
    "def process_file_paths(file_path):\n",
    "    results = []\n",
    "\n",
    "    # Split the path into elements\n",
    "    path_elements = file_path.split(os.sep)\n",
    "\n",
    "    # Get file size (in bytes)\n",
    "    try:\n",
    "        file_size = os.path.getsize(file_path)/1024**2 \n",
    "    except FileNotFoundError:\n",
    "        file_size = None\n",
    "\n",
    "    # Get file creation date\n",
    "    try:\n",
    "       # creation_time = os.path.getctime(file_path)\n",
    "       # creation_date = datetime.datetime.fromtimestamp(creation_time).strftime('%Y-%m-%d %H:%M:%S')\n",
    "\n",
    "        stat = os.stat(file_path)\n",
    "        modification_time = datetime.datetime.fromtimestamp(stat.st_mtime).strftime('%Y-%m-%d %H:%M:%S')\n",
    "        creation_time = datetime.datetime.fromtimestamp(stat.st_ctime).strftime('%Y-%m-%d %H:%M:%S')\n",
    "    except FileNotFoundError: \n",
    "        toto\n",
    "\n",
    "\n",
    "\n",
    "\n",
    "    return path_elements, file_size, creation_time, modification_time\n",
    "\n",
    "\n"
   ]
  },
  {
   "cell_type": "code",
   "execution_count": 7,
   "id": "99242135-0409-48bb-ae56-ba11ea885312",
   "metadata": {},
   "outputs": [],
   "source": [
    "list_L0 = P\n",
    "filepaths = list_L0\n",
    "filename  = [] \n",
    "directory = []\n",
    "filesize  = []\n",
    "modifdate  = []\n",
    "\n",
    "\n",
    "\n",
    "for p in range(0,len(list_L0)):\n",
    "    path_elements, fsize, creation_time, modification_time = process_file_paths(list_L0[p])\n",
    "    filename.append(path_elements[-1])\n",
    "    directory.append(path_elements[-3])\n",
    "    filesize.append(fsize)\n",
    "    modifdate.append(modification_time)\n",
    "    \n",
    "fileid = np.arange(0,len(list_L0),1)"
   ]
  },
  {
   "cell_type": "code",
   "execution_count": 8,
   "id": "516c3879-f8ba-49a5-bf0b-0f835eec12cf",
   "metadata": {},
   "outputs": [
    {
     "name": "stdout",
     "output_type": "stream",
     "text": [
      "/Volumes/ORSO/TERESA/microrider/\n"
     ]
    }
   ],
   "source": [
    "print(mird_pth)\n",
    "\n",
    "TEMR_L0_organize = pd.DataFrame()\n",
    "TEMR_L0_organize['fileid'] = fileid\n",
    "TEMR_L0_organize['filepaths'] = filepaths\n",
    "TEMR_L0_organize['filename'] = filename\n",
    "TEMR_L0_organize['directory'] = directory\n",
    "TEMR_L0_organize['filesize'] = filesize\n",
    "TEMR_L0_organize['modifdate'] = modifdate\n",
    "\n",
    "\n",
    "list_L0_organize = pd.DataFrame(list_L0)\n",
    "\n",
    "TEMR_L0_name = 'TEMR_L0_2015_2024_organize'\n",
    "list_L0_name = 'list_L0_2015_2024_organize'\n",
    "\n",
    "TEMR_L0_organize.to_csv(mird_pth+'processing/L0/'+TEMR_L0_name+'.csv', index = False)\n",
    "list_L0_organize.to_csv(mird_pth+'processing/L0/'+list_L0_name+'.csv', index = False)\n"
   ]
  },
  {
   "cell_type": "code",
   "execution_count": 9,
   "id": "2f079e8c-9d41-4210-ab4a-8ff40b46ee08",
   "metadata": {},
   "outputs": [
    {
     "data": {
      "text/html": [
       "<div>\n",
       "<style scoped>\n",
       "    .dataframe tbody tr th:only-of-type {\n",
       "        vertical-align: middle;\n",
       "    }\n",
       "\n",
       "    .dataframe tbody tr th {\n",
       "        vertical-align: top;\n",
       "    }\n",
       "\n",
       "    .dataframe thead th {\n",
       "        text-align: right;\n",
       "    }\n",
       "</style>\n",
       "<table border=\"1\" class=\"dataframe\">\n",
       "  <thead>\n",
       "    <tr style=\"text-align: right;\">\n",
       "      <th></th>\n",
       "      <th>fileid</th>\n",
       "      <th>filepaths</th>\n",
       "      <th>filename</th>\n",
       "      <th>directory</th>\n",
       "      <th>filesize</th>\n",
       "      <th>modifdate</th>\n",
       "    </tr>\n",
       "  </thead>\n",
       "  <tbody>\n",
       "    <tr>\n",
       "      <th>0</th>\n",
       "      <td>0</td>\n",
       "      <td>/Volumes/ORSO/TERESA/microrider/data/teresa_mi...</td>\n",
       "      <td>DAT_055.P</td>\n",
       "      <td>teresa_microrider_2015_agosto</td>\n",
       "      <td>0.136845</td>\n",
       "      <td>2023-11-09 11:49:48</td>\n",
       "    </tr>\n",
       "    <tr>\n",
       "      <th>1</th>\n",
       "      <td>1</td>\n",
       "      <td>/Volumes/ORSO/TERESA/microrider/data/teresa_mi...</td>\n",
       "      <td>DAT_056.P</td>\n",
       "      <td>teresa_microrider_2015_agosto</td>\n",
       "      <td>0.343143</td>\n",
       "      <td>2023-11-09 11:49:48</td>\n",
       "    </tr>\n",
       "    <tr>\n",
       "      <th>2</th>\n",
       "      <td>2</td>\n",
       "      <td>/Volumes/ORSO/TERESA/microrider/data/teresa_mi...</td>\n",
       "      <td>DAT_057.P</td>\n",
       "      <td>teresa_microrider_2015_agosto</td>\n",
       "      <td>0.343143</td>\n",
       "      <td>2023-11-09 11:49:48</td>\n",
       "    </tr>\n",
       "    <tr>\n",
       "      <th>3</th>\n",
       "      <td>3</td>\n",
       "      <td>/Volumes/ORSO/TERESA/microrider/data/teresa_mi...</td>\n",
       "      <td>DAT_058.P</td>\n",
       "      <td>teresa_microrider_2015_agosto</td>\n",
       "      <td>2.334721</td>\n",
       "      <td>2023-11-09 11:49:48</td>\n",
       "    </tr>\n",
       "    <tr>\n",
       "      <th>4</th>\n",
       "      <td>4</td>\n",
       "      <td>/Volumes/ORSO/TERESA/microrider/data/teresa_mi...</td>\n",
       "      <td>DAT_059.P</td>\n",
       "      <td>teresa_microrider_2015_agosto</td>\n",
       "      <td>23.059818</td>\n",
       "      <td>2023-11-09 11:49:49</td>\n",
       "    </tr>\n",
       "    <tr>\n",
       "      <th>...</th>\n",
       "      <td>...</td>\n",
       "      <td>...</td>\n",
       "      <td>...</td>\n",
       "      <td>...</td>\n",
       "      <td>...</td>\n",
       "      <td>...</td>\n",
       "    </tr>\n",
       "    <tr>\n",
       "      <th>951</th>\n",
       "      <td>951</td>\n",
       "      <td>/Volumes/ORSO/TERESA/microrider/data/teresa_mi...</td>\n",
       "      <td>DAT_153.P</td>\n",
       "      <td>teresa_microrider_2024_maggio_giugno_luglio24</td>\n",
       "      <td>56.263970</td>\n",
       "      <td>2024-12-23 14:43:35</td>\n",
       "    </tr>\n",
       "    <tr>\n",
       "      <th>952</th>\n",
       "      <td>952</td>\n",
       "      <td>/Volumes/ORSO/TERESA/microrider/data/teresa_mi...</td>\n",
       "      <td>DAT_154.P</td>\n",
       "      <td>teresa_microrider_2024_maggio_giugno_luglio24</td>\n",
       "      <td>6.815728</td>\n",
       "      <td>2024-12-23 14:43:35</td>\n",
       "    </tr>\n",
       "    <tr>\n",
       "      <th>953</th>\n",
       "      <td>953</td>\n",
       "      <td>/Volumes/ORSO/TERESA/microrider/data/teresa_mi...</td>\n",
       "      <td>DAT_155.P</td>\n",
       "      <td>teresa_microrider_2024_maggio_giugno_luglio24</td>\n",
       "      <td>0.134820</td>\n",
       "      <td>2024-12-23 14:43:35</td>\n",
       "    </tr>\n",
       "    <tr>\n",
       "      <th>954</th>\n",
       "      <td>954</td>\n",
       "      <td>/Volumes/ORSO/TERESA/microrider/data/teresa_mi...</td>\n",
       "      <td>DAT_156.P</td>\n",
       "      <td>teresa_microrider_2024_maggio_giugno_luglio24</td>\n",
       "      <td>6.982354</td>\n",
       "      <td>2024-12-23 14:43:35</td>\n",
       "    </tr>\n",
       "    <tr>\n",
       "      <th>955</th>\n",
       "      <td>955</td>\n",
       "      <td>/Volumes/ORSO/TERESA/microrider/data/teresa_mi...</td>\n",
       "      <td>DAT_157.P</td>\n",
       "      <td>teresa_microrider_2024_maggio_giugno_luglio24</td>\n",
       "      <td>6.903008</td>\n",
       "      <td>2024-12-23 14:43:35</td>\n",
       "    </tr>\n",
       "  </tbody>\n",
       "</table>\n",
       "<p>956 rows × 6 columns</p>\n",
       "</div>"
      ],
      "text/plain": [
       "     fileid                                          filepaths   filename  \\\n",
       "0         0  /Volumes/ORSO/TERESA/microrider/data/teresa_mi...  DAT_055.P   \n",
       "1         1  /Volumes/ORSO/TERESA/microrider/data/teresa_mi...  DAT_056.P   \n",
       "2         2  /Volumes/ORSO/TERESA/microrider/data/teresa_mi...  DAT_057.P   \n",
       "3         3  /Volumes/ORSO/TERESA/microrider/data/teresa_mi...  DAT_058.P   \n",
       "4         4  /Volumes/ORSO/TERESA/microrider/data/teresa_mi...  DAT_059.P   \n",
       "..      ...                                                ...        ...   \n",
       "951     951  /Volumes/ORSO/TERESA/microrider/data/teresa_mi...  DAT_153.P   \n",
       "952     952  /Volumes/ORSO/TERESA/microrider/data/teresa_mi...  DAT_154.P   \n",
       "953     953  /Volumes/ORSO/TERESA/microrider/data/teresa_mi...  DAT_155.P   \n",
       "954     954  /Volumes/ORSO/TERESA/microrider/data/teresa_mi...  DAT_156.P   \n",
       "955     955  /Volumes/ORSO/TERESA/microrider/data/teresa_mi...  DAT_157.P   \n",
       "\n",
       "                                         directory   filesize  \\\n",
       "0                    teresa_microrider_2015_agosto   0.136845   \n",
       "1                    teresa_microrider_2015_agosto   0.343143   \n",
       "2                    teresa_microrider_2015_agosto   0.343143   \n",
       "3                    teresa_microrider_2015_agosto   2.334721   \n",
       "4                    teresa_microrider_2015_agosto  23.059818   \n",
       "..                                             ...        ...   \n",
       "951  teresa_microrider_2024_maggio_giugno_luglio24  56.263970   \n",
       "952  teresa_microrider_2024_maggio_giugno_luglio24   6.815728   \n",
       "953  teresa_microrider_2024_maggio_giugno_luglio24   0.134820   \n",
       "954  teresa_microrider_2024_maggio_giugno_luglio24   6.982354   \n",
       "955  teresa_microrider_2024_maggio_giugno_luglio24   6.903008   \n",
       "\n",
       "               modifdate  \n",
       "0    2023-11-09 11:49:48  \n",
       "1    2023-11-09 11:49:48  \n",
       "2    2023-11-09 11:49:48  \n",
       "3    2023-11-09 11:49:48  \n",
       "4    2023-11-09 11:49:49  \n",
       "..                   ...  \n",
       "951  2024-12-23 14:43:35  \n",
       "952  2024-12-23 14:43:35  \n",
       "953  2024-12-23 14:43:35  \n",
       "954  2024-12-23 14:43:35  \n",
       "955  2024-12-23 14:43:35  \n",
       "\n",
       "[956 rows x 6 columns]"
      ]
     },
     "execution_count": 9,
     "metadata": {},
     "output_type": "execute_result"
    }
   ],
   "source": [
    "TEMR_L0_organize"
   ]
  },
  {
   "cell_type": "code",
   "execution_count": null,
   "id": "fda01775-feea-41cc-9efb-fd579526c0fc",
   "metadata": {},
   "outputs": [],
   "source": []
  }
 ],
 "metadata": {
  "kernelspec": {
   "display_name": "Python 3",
   "language": "python",
   "name": "python3"
  },
  "language_info": {
   "codemirror_mode": {
    "name": "ipython",
    "version": 3
   },
   "file_extension": ".py",
   "mimetype": "text/x-python",
   "name": "python",
   "nbconvert_exporter": "python",
   "pygments_lexer": "ipython3",
   "version": "3.8.5"
  }
 },
 "nbformat": 4,
 "nbformat_minor": 5
}
