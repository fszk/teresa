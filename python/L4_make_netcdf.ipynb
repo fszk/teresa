{
 "cells": [
  {
   "cell_type": "code",
   "execution_count": 1,
   "id": "f3c754dd-863d-4317-9a6f-e1fc4abdbca9",
   "metadata": {},
   "outputs": [
    {
     "name": "stdout",
     "output_type": "stream",
     "text": [
      "/Users/floriankokoszka/Desktop/notebooks\n"
     ]
    },
    {
     "data": {
      "text/plain": [
       "'/Users/floriankokoszka/Desktop/notebooks'"
      ]
     },
     "execution_count": 1,
     "metadata": {},
     "output_type": "execute_result"
    }
   ],
   "source": [
    "%cd /Users/floriankokoszka/Desktop/notebooks\n",
    "%pwd"
   ]
  },
  {
   "cell_type": "code",
   "execution_count": 2,
   "id": "5f522e79-8939-4d06-869a-7ae49b8c44fc",
   "metadata": {},
   "outputs": [
    {
     "name": "stdout",
     "output_type": "stream",
     "text": [
      "/Users/floriankokoszka/Desktop/notebooks\n"
     ]
    }
   ],
   "source": [
    "%cd /Users/floriankokoszka/Desktop/notebooks\n",
    "%pwd\n",
    "\n",
    "%run mc_startup.ipynb\n",
    "%run myfunctions.ipynb\n",
    "%run myfunctions_plus.ipynb\n",
    "\n",
    "import warnings\n",
    "warnings.filterwarnings(\"ignore\", category=DeprecationWarning)\n",
    "warnings.filterwarnings(\"ignore\", category=RuntimeWarning)\n",
    "\n",
    "import xarray as xr"
   ]
  },
  {
   "cell_type": "code",
   "execution_count": 3,
   "id": "f8ea3828-9bc0-4eaa-b203-605a128e01a8",
   "metadata": {},
   "outputs": [],
   "source": [
    "import numpy as np\n",
    "import netCDF4 as nc4\n",
    "from netCDF4 import Dataset, stringtochar\n",
    "import pandas as pd\n",
    "from types import SimpleNamespace\n",
    "\n",
    "import pandas as pd\n",
    "import os"
   ]
  },
  {
   "cell_type": "code",
   "execution_count": 4,
   "id": "9442f23f-02c9-4444-8042-f8274ab758c8",
   "metadata": {},
   "outputs": [],
   "source": [
    "from types import SimpleNamespace\n",
    "\n",
    "def make_namespace(df, row1,row2):\n",
    "    from types import SimpleNamespace\n",
    "    x = SimpleNamespace()\n",
    "    for _, row in df.iterrows():\n",
    "        key = row[row1]\n",
    "        value = row[row2]\n",
    "        if pd.notna(key):  # Ignore les clés manquantes (NaN)\n",
    "            key_str = str(key).strip().replace(\" \", \"_\").replace(\"-\", \"_\")\n",
    "            setattr(x, key_str, value)\n",
    "    return x"
   ]
  },
  {
   "cell_type": "code",
   "execution_count": 5,
   "id": "c79da7af-4a16-4752-853d-df53819bceed",
   "metadata": {},
   "outputs": [],
   "source": [
    "from os.path import dirname, join as pjoin\n",
    "import scipy.io as sio\n",
    "import mat73\n",
    "from datetime import datetime, timedelta"
   ]
  },
  {
   "cell_type": "code",
   "execution_count": 6,
   "id": "ffe4cfc4-2282-47bf-9d65-20a008217144",
   "metadata": {},
   "outputs": [],
   "source": [
    "import glob\n",
    "import os\n",
    "import time"
   ]
  },
  {
   "cell_type": "code",
   "execution_count": 7,
   "id": "308f4c16-a5c2-4452-9565-c41278c2e97d",
   "metadata": {},
   "outputs": [],
   "source": [
    "from matplotlib.colors import ListedColormap\n",
    "import numpy as np\n",
    "import matplotlib.pyplot as plt\n",
    "import matplotlib.colors as mcolors\n",
    "from matplotlib import cm\n"
   ]
  },
  {
   "cell_type": "code",
   "execution_count": 8,
   "id": "711e19cc-aa42-4aa4-800d-e57c7644804e",
   "metadata": {},
   "outputs": [],
   "source": [
    "import h5py\n",
    "import numpy as np\n",
    "\n",
    "def load_h5_recursive(group, path=''):\n",
    "    data = {}\n",
    "    for key, item in group.items():\n",
    "        current_path = f\"{path}/{key}\" if path else key\n",
    "        if isinstance(item, h5py.Dataset):  # Variable simple\n",
    "            data[current_path] = np.array(item)\n",
    "        elif isinstance(item, h5py.Group):  # Sous-structure\n",
    "            data.update(load_h5_recursive(item, current_path))\n",
    "    return data"
   ]
  },
  {
   "cell_type": "markdown",
   "id": "0efed12b-a025-40c7-b81d-ac635d70c819",
   "metadata": {
    "jp-MarkdownHeadingCollapsed": true,
    "tags": []
   },
   "source": [
    "### FIELDS"
   ]
  },
  {
   "cell_type": "raw",
   "id": "3d9d2e4f-b687-4ec7-8c14-46b3b48b6dbd",
   "metadata": {},
   "source": [
    "DIMENSIONS:  \n",
    "SECTION_,SECTION_SHEAR,SECTION_THERM # ———————— post load\n",
    "\n",
    "\n",
    "TIME_SPECTRA_SHEAR # ———————— post load\n",
    "N_SHEAR_SENSORS # ———————— post load\n",
    "\n",
    "TIME_SPECTRA_THERM # ———————— post load\n",
    "N_THERM_SENSORS # ———————— post load\n",
    "\n",
    "Example:  \n",
    "123456 estimates from 2 shear sensors among 100 unique sections \n",
    "89765 estimates from 2 therm sensors among 100 unique sections \n",
    "\n",
    "(100,1)\n",
    "SECTION_ INDEX : (100,1) \n",
    "SECTION_ fs_fast              # fs_fast\n",
    "SECTION_ fs_slow              # fs_slow\n",
    "SECTION_ profiling_direction  # profile_dir\n",
    "SECTION_ speed_source # speed_source –––– TO INCLUDE 0default 1GFM \n",
    "SECTION_ speed_mean # speed_mean  \n",
    "SECTION_ vehicle_length # vehicle_length  \n",
    "SECTION_ tau_to_avoidadv  # tau_to_avoidadv\n",
    "SECTION_ tau_to_resolve_05cpm = # tau_to_resolve_05cpm \n",
    "SECTION_ tau_fft # tau_fft\n",
    "\n",
    "SECTION_SHEAR fft_length           #fft_length\n",
    "SECTION_SHEAR diss_length          # diss_length\n",
    "SECTION_SHEAR overlap              # overlap\n",
    "SECTION_SHEAR goodman              # goodman\n",
    "SECTION_SHEAR HP_cut               # Fhp -------> to include\n",
    "SECTION_SHEAR kl                  # kl -------> to include\n",
    "SECTION_SHEAR L_fft               # L_fft -------> to include\n",
    "SECTION_SHEAR N_fft               # N_fft -------> to include\n",
    "SECTION_SHEAR fft_length_sec       # -------> to convert\n",
    "SECTION_SHEAR diss_length_sec      # -------> to convert\n",
    "SECTION_SHEAR overlap_sec          # -------> to convert\n",
    "SECTION_SHEAR f_AA                 # f_AA -------> to include\n",
    "SECTION_SHEAR FOM_limit            # figofmer_fail\n",
    "SECTION_SHEAR diss_ratio_limit     # 2.77 VSR or 4.2 ISR\n",
    "SECTION_SHEAR despike_shear_fraction_limit      # spikfrac_thresh\n",
    "SECTION_SHEAR despike_shear_fraction_relax_limit  # spikfrac_thresh_relax\n",
    "SECTION_SHEAR despike_shear_iterations_limit    # spikiter_thresh\n",
    "SECTION_SHEAR variance_resolved_limit           # varresol_fail\n",
    "SECTION_SHEAR f_limit                           # f_AA_max –––– to verify \n",
    "SECTION_SHEAR fit_2_isr                         # 10e-5 to check –––– to verify\n",
    "SECTION_SHEAR spectral_model                    # –––– to verify\n",
    "# VSR/ISR Lueck et al. 2024' ;\n",
    "\n",
    "\n",
    "SECTION_THERM_ f_AA   # f_AA -------> to include\n",
    "SECTION_THERM_  f_limit  # f_AA_max \n",
    "SECTION_THERM_ npoles # npoles 'single'   -------> to include\n",
    "SECTION_THERM_ fft_length # sL\n",
    "SECTION_THERM_ overlap # sOV\n",
    "SECTION_THERM_ Tdis # ------ to include Tdis Tdis = 'K' ;  (B: Batchelor, K: Kraichnan)\n",
    "SECTION_THERM_ q # ------ to include  q: turbulent parameter\n",
    "SECTION_THERM_ tau_0 # ------ to include  \n",
    "SECTION_THERM_time_corr # ------ to include  \n",
    "SECTION_THERM_int_range # ------ to include  \n",
    "\n",
    "\n",
    "\n",
    "TIME (123456,1) \n",
    "SECTION_NUMBER (123456,1).    [1 1 1 1 1 1 2 2 2 2 .... 99 99 99 100 100 100 100] \n",
    "PSPD_REL # speed -------> to include\n",
    "PSPD_AOA # aoa  –––– TO INCLUDE  \n",
    "PRES  # P\n",
    "LON  # lon\n",
    "LAT  # lat\n",
    "DT # datetime\n",
    "KVISC # nu -------> to include\n",
    "Z  # Z\n",
    "EPSI # e1 e2\n",
    "EPSI_FINAL # ------- post load\n",
    "EPSI_STD   # sig_ln_e1 #sig_ln_e2  -------> to combine @method=\n",
    "EPSI_STD   # sig_ln_psi_on_sqrt_Ns1  sig_ln_psi_on_sqrt_Ns2 -------> to combine @method=1\n",
    "\n",
    "EPSI_FLAGS  # ------- post load\n",
    "KMIN         # kl OR diss.Kmin ??? -------> to include\n",
    "KMAX         # kmax1 kmax2\n",
    "N_S          # dof1 #dof2\n",
    "METHOD       # method1 method2\n",
    "FOM          # fm1 #fm2\n",
    "\n",
    "MAD          # mad1 #dof2mad2\n",
    "VAR_RESOLVED # Vf1 Vf2\n",
    "DESPIKE_FRACTION_SH  # despike_sh1_ratio despike_sh2_ratio #----- to convert \n",
    "DESPIKE_PASS_COUNT_SH  # despike_sh1_passcount despike_sh2_passcount"
   ]
  },
  {
   "cell_type": "raw",
   "id": "1b512edd-e0c7-4192-840a-7942fbe5f277",
   "metadata": {},
   "source": [
    "TIME (123456,1) \n",
    "SECTION_NUMBER (123456,1).    [1 1 1 1 1 1 2 2 2 2 .... 99 99 99 100 100 100 100] \n",
    "\n",
    "PRES  # P_eT1 P_eT2\n",
    "LON  # lon_eT1\n",
    "LAT  # lon_eT2\n",
    "DT # datetime\n",
    "KVISC # nu_eT1 nu_eT2\n",
    "\n",
    "SW_Diffusivity # td_eT1 td_eT2\n",
    "\n",
    "Z  # z_eT1 z_eT2\n",
    "\n",
    "\n",
    "PSPD_REL \n",
    "\n",
    "\n",
    "XIT  # xit1 xit2\n",
    "XIT_FINAL  # ------- post load\n",
    "XIT_STD    # ------- post load\n",
    "XIT_FLAGS  # ------- QT1, QT2 # ------- post load \n",
    "KB #  kB_T1 kB_T2\n",
    "KMIN # kL_T1 kL_T2\n",
    "KMAX  # kU_T1 kU_T2\n",
    "kP # kP1 kP2 ------- to include\n",
    "LR # likehratio1 likehratio2\n",
    "MAD_T #  qc_mad_T1 qc_mad_T2\n",
    "MADc  # qc_mad_c1 qc_mad_c2\n"
   ]
  },
  {
   "cell_type": "markdown",
   "id": "73df6ca5-efa6-495c-bb42-ba94063eab9c",
   "metadata": {
    "jp-MarkdownHeadingCollapsed": true,
    "tags": []
   },
   "source": [
    "### Import .mat"
   ]
  },
  {
   "cell_type": "code",
   "execution_count": 9,
   "id": "944ff3ea-6c52-4e1a-85d3-d4a0fa0f97e6",
   "metadata": {},
   "outputs": [
    {
     "name": "stdout",
     "output_type": "stream",
     "text": [
      "path: /Volumes/ORSO/TERESA/microrider/processing/L4/mat/ \n",
      " files: 3503 \n",
      " file 1: /Volumes/ORSO/TERESA/microrider/processing/L4/mat/TERESA_MR_L4QC_converted_file_0011_DAT_2015_08_12_10_32_30_lat_39_4917_lon_06_5837_nav_W_pmin_0003_pmax_0905_sec_001_on_004_glid_down.mat \n",
      " file N: /Volumes/ORSO/TERESA/microrider/processing/L4/mat/TERESA_MR_L4QC_converted_file_0955_DAT_157_2024_07_04_05_30_11_lat_39_2091_lon_02_3364_nav_W_pmin_0003_pmax_0053_sec_002_on_002_glid_upwd.mat \n",
      "\n"
     ]
    },
    {
     "data": {
      "text/plain": [
       "3503"
      ]
     },
     "execution_count": 9,
     "metadata": {},
     "output_type": "execute_result"
    }
   ],
   "source": [
    "\n",
    "\n",
    "dir_path = r'/Users/floriankokoszka/Desktop/TERESA/microrider/processing/QC/mat/'\n",
    "dir_path = r'/Users/floriankokoszka/Desktop/TERESA/microrider/processing_gfm/QC/mat/'\n",
    "dir_path = r'/Volumes/DENISE/data/glider/teresa/microrider/processing_gfm_II/QC/mat/'\n",
    "dir_path = r'/Volumes/ORSO/TERESA/microrider/processing/L4/mat/'\n",
    "\n",
    "file_typ = '.mat'\n",
    "\n",
    "# Get list of all files only in the given directory\n",
    "list_of_files = filter( os.path.isfile, glob.glob(dir_path + '*'+file_typ) )\n",
    "# Sort list of files based on last modification time in ascending order\n",
    "list_of_files = sorted( list_of_files, key = os.path.getmtime)\n",
    "# Iterate over sorted list of files and print file path \n",
    "# along with last modification time of file \n",
    "for file_path in list_of_files:\n",
    "    timestamp_str = time.strftime(  '%m/%d/%Y :: %H:%M:%S',\n",
    "                                time.gmtime(os.path.getmtime(file_path))) \n",
    "    #print(timestamp_str, ' -->', file_path) \n",
    "    \n",
    "RES = list_of_files\n",
    "\n",
    "print('path:',dir_path,'\\n',\n",
    "      'files:',len(RES),'\\n',\n",
    "      'file 1:',RES[0],'\\n',\n",
    "      'file N:',RES[len(RES)-1],'\\n')\n",
    "\n",
    "res = RES\n",
    "len(res)"
   ]
  },
  {
   "cell_type": "code",
   "execution_count": 10,
   "id": "32a38651-71da-4fbc-b874-cef04f128ef4",
   "metadata": {},
   "outputs": [],
   "source": [
    "import h5py\n",
    "import numpy as np\n",
    "\n",
    "def load_h5_recursive(group, path=''):\n",
    "    \"\"\"\n",
    "    Fonction récursive pour charger toutes les variables d'un fichier HDF5.\n",
    "    \"\"\"\n",
    "    data = {}\n",
    "    for key, item in group.items():\n",
    "        current_path = f\"{path}/{key}\" if path else key\n",
    "        if isinstance(item, h5py.Dataset):  # Variable simple\n",
    "            data[current_path] = np.array(item)\n",
    "        elif isinstance(item, h5py.Group):  # Sous-structure\n",
    "            data.update(load_h5_recursive(item, current_path))\n",
    "    return data"
   ]
  },
  {
   "cell_type": "code",
   "execution_count": 11,
   "id": "84c7a147-b07f-49af-903a-6b19d488796b",
   "metadata": {},
   "outputs": [
    {
     "name": "stdout",
     "output_type": "stream",
     "text": [
      "/Volumes/ORSO/TERESA/microrider/processing/L4/mat/TERESA_MR_L4QC_converted_file_0505_DAT_2022_11_09_11_37_02_lat_39_4826_lon_07_5242_nav_W_pmin_0003_pmax_0948_sec_001_on_010_glid_down.mat\n",
      "Variables dans meta : ['aoa', 'constant_temp', 'datenum_end', 'datenum_start', 'datetime_end', 'datetime_start', 'direction_section', 'distance', 'dn', 'dt', 'duration_hours', 'duration_minutes', 'fullPath', 'lat', 'lat_end', 'lat_max', 'lat_mean', 'lat_min', 'lat_start', 'length_origina', 'length_section', 'lon', 'lon_end', 'lon_max', 'lon_mean', 'lon_min', 'lon_start', 'navig_dir', 'navig_dir_str', 'number_of_sections', 'odas_version', 'percen_origina', 'pres_delta', 'pres_max', 'pres_min', 'pres_start_end', 'profile_dir', 'section_direct', 'section_direct_str', 'section_indexes', 'section_number', 'setupfilestr', 'speed_algorithm', 'speed_cutout', 'speed_mean', 'speed_source', 'speed_tau', 'tau', 'thermistor_source', 'time_offset', 'vehicle', 'w_mean']\n",
      "\n",
      "Variables dans L2_params : ['Fhp', 'L_fft', 'N_fft', 'Ndown_Nup', 'Ntimes', 'Ntimes_N_fft', 'P_spikes_sh1', 'P_spikes_sh2', 'Pmin', 'T_source_logic', 'T_source_string', 'Th_source_logic', 'Th_source_string', 'Wmin', 'c1', 'c2', 'despike_N', 'despike_fcut', 'despike_sh1_passcount', 'despike_sh1_ratio', 'despike_sh1_spike', 'despike_sh2_passcount', 'despike_sh2_ratio', 'despike_sh2_spike', 'despike_thresh', 'fc_hi', 'fc_hi_order', 'fc_hi_shear', 'fc_hi_shear_order', 'fc_lo', 'fc_lo_order', 'fs_sampling', 'kl', 'lu', 'minDuration', 'percent_overlap', 'section_id', 'speed_for_fft', 'speed_mean', 'speed_source', 'speed_source_logic', 'tau_fft', 'tau_to_avoidadv', 'tau_to_resolve_05cpm', 'tau_to_resolve_10cpm', 'tau_to_resolve_20cpm', 'u', 'vehicle_length', 'w_mean']\n",
      "\n",
      "Variables dans L3_params : ['Niw', 'Now', 'Ntimes', 'Nv', 'RNvNow', 'T_source_logic', 'T_source_string', 'Tdis', 'Tdis_logic', 'Th_source_logic', 'Th_source_string', 'W', 'c1', 'c2', 'diss_length', 'f_AA_max', 'fft_length', 'fs_fast', 'fs_slow', 'gradT_dis_spec', 'int_range', 'int_range_logic', 'k1', 'kB_S', 'npoles', 'npoles_logic', 'overlap', 'q', 'sL', 'sOV', 'sW', 'sig_ln_psi', 'speed_source', 'speed_source_logic', 'tau_0', 'time_corr', 'time_corr_logic', 'var_ln_psi']\n",
      "\n",
      "Variables dans L4 : ['AOA', 'C', 'D_eT1', 'D_eT2', 'Lf1', 'Lf2', 'Ne', 'NeT1', 'NeT2', 'Ns1', 'Ns2', 'P', 'P_eT1', 'P_eT2', 'SA', 'SP', 'T', 'T1', 'T2', 'TM1', 'TM2', 'T_eT1', 'T_eT2', 'Vf1', 'Vf2', 'Z_eT1', 'Z_eT2', 'diss_function_name', 'dn_eT1', 'dn_eT2', 'dn_eps', 'dof_e1', 'dof_e2', 'dof_spec', 'dt_eT1', 'dt_eT2', 'dt_eps', 'dz', 'dzT1', 'dzT2', 'e1', 'e2', 'eT1', 'eT2', 'f_AA', 'f_limit', 'fm1', 'fm2', 'fm_old1', 'fm_old2', 'gradT_dis_spec', 'kB_T1', 'kB_T2', 'kL_T1', 'kL_T2', 'kP_T1', 'kP_T2', 'kU_T1', 'kU_T2', 'k_hat_u1', 'k_hat_u2', 'kmax1', 'kmax2', 'kolmo1', 'kolmo2', 'krange_T1', 'krange_T2', 'lat_eT1', 'lat_eT2', 'lat_eps', 'le', 'likehratio1', 'likehratio2', 'lon_eT1', 'lon_eT2', 'lon_eps', 'low_e1_isr', 'low_e1_vsr', 'low_e2_isr', 'low_e2_vsr', 'mad1', 'mad10_1', 'mad10_2', 'mad2', 'method_sh1', 'method_sh1_isr', 'method_sh1_vsr', 'method_sh2', 'method_sh2_isr', 'method_sh2_vsr', 'nu', 'nu_eT1', 'nu_eT2', 'pitch', 'pitch_gl', 'qc_flag_T1', 'qc_flag_T2', 'qc_mad_ST1', 'qc_mad_ST2', 'qc_mad_T1', 'qc_mad_T2', 'qc_mad_c1', 'qc_mad_c2', 'rho', 'roll', 'roll_gl', 'sig_ln_e1', 'sig_ln_e2', 'sig_ln_ee', 'sig_ln_psi', 'sig_ln_psi_on_sqrt_Ns', 'sig_ln_psi_on_sqrt_Ns1', 'sig_ln_psi_on_sqrt_Ns2', 'spectral_model_ISR', 'spectral_model_THERM', 'spectral_model_VSR', 'speed', 'speed_source', 'speed_source_logic', 'speed_std', 't_eT1', 't_eT2', 'td_eT1', 'td_eT2', 'therm1_NU', 'therm1_TD', 'therm1_W', 'therm1_f_AA_max', 'therm1_int_range', 'therm1_k1', 'therm1_kB_S', 'therm1_q', 'therm1_sL', 'therm1_sOV', 'therm1_sW', 'therm1_tau_0', 'therm2_NU', 'therm2_TD', 'therm2_Tdis', 'therm2_W', 'therm2_f_AA_max', 'therm2_int_range', 'therm2_k1', 'therm2_kB_S', 'therm2_q', 'therm2_sL', 'therm2_sOV', 'therm2_sW', 'therm2_tau_0', 'thermistor_source', 'upp_e1_isr', 'upp_e1_vsr', 'upp_e2_isr', 'upp_e2_vsr', 'var_ln_e1', 'var_ln_e2', 'xist1', 'xist2', 'xit1', 'xit2', 'xiv1', 'xiv2', 'z']\n",
      "\n",
      "Variables dans QC : ['Q1', 'Q2', 'QC_FP07_1', 'QC_FP07_2', 'Q_T1', 'Q_T1T2_SPREAD', 'Q_T2', 'Q_aoa', 'Q_e1_eratio', 'Q_e2_eratio', 'Q_figofmer1', 'Q_figofmer2', 'Q_spikfrac1', 'Q_spikfrac2', 'Q_spikpass1', 'Q_spikpass2', 'Q_varresol1', 'Q_varresol2', 'aoa_thresh1', 'aoa_thresh2', 'despike_N', 'despike_fcut', 'despike_sh1_passcount', 'despike_sh1_ratio', 'despike_sh2_passcount', 'despike_sh2_ratio', 'despike_thresh', 'dspk_frac1', 'dspk_frac2', 'ee_isr', 'ee_isr_qc1', 'ee_vsr', 'ee_vsr_qc1', 'epsratio_fail_isr', 'epsratio_fail_vsr', 'figofmer_fail', 'fisr', 'fok1', 'fok2', 'fvsr', 'likehratio1', 'likehratio2', 'lok1', 'lok2', 'ok_isr', 'ok_isr_qc1', 'ok_vsr', 'ok_vsr_qc1', 'pok1', 'pok2', 'qc_flag_T1', 'qc_flag_T2', 'qc_mad_ST1', 'qc_mad_ST2', 'qc_mad_T1', 'qc_mad_T2', 'qc_mad_c1', 'qc_mad_c2', 'spikfrac_fail', 'spikfrac_failr', 'spikpass_fail', 'varresol_fail']\n"
     ]
    }
   ],
   "source": [
    "p = 1000\n",
    "fn = res[p]\n",
    "print(fn)\n",
    "\n",
    "with h5py.File(fn, 'r') as f:\n",
    "    meta_vars = list(f['mr/meta'].keys()) if 'mr/meta' in f else []\n",
    "    print(\"Variables dans meta :\", meta_vars)\n",
    "    \n",
    "    L2_vars = list(f['mr/L2_params'].keys()) if 'mr/L2_params' in f else []\n",
    "    print(\"\\nVariables dans L2_params :\", L2_vars)\n",
    "    \n",
    "    L3_vars = list(f['mr/L3_params'].keys()) if 'mr/L3_params' in f else []\n",
    "    print(\"\\nVariables dans L3_params :\", L3_vars)\n",
    "    \n",
    "    L4_vars = list(f['mr/L4'].keys()) if 'mr/L4' in f else []\n",
    "    print(\"\\nVariables dans L4 :\", L4_vars)\n",
    "    \n",
    "    QC_vars = list(f['mr/QC'].keys()) if 'mr/QC' in f else []\n",
    "    print(\"\\nVariables dans QC :\", QC_vars)\n",
    "    \n"
   ]
  },
  {
   "cell_type": "code",
   "execution_count": null,
   "id": "080c4025-af20-4536-93ce-486e0ab9334f",
   "metadata": {},
   "outputs": [],
   "source": []
  },
  {
   "cell_type": "code",
   "execution_count": 13,
   "id": "0315ef17-0d4a-4f10-abe5-520d84ceb10e",
   "metadata": {},
   "outputs": [],
   "source": [
    "with h5py.File(fn, 'r') as f:\n",
    "    all_data = load_h5_recursive(f)\n",
    "\n",
    "for key in all_data.keys():\n",
    "    # print(key)\n",
    "    str2exec = key.split('/')[-1] +'= all_data[\"'+key+'\"].ravel()'\n",
    "    exec(str2exec)"
   ]
  },
  {
   "cell_type": "code",
   "execution_count": null,
   "id": "dbc3ad27-17b1-48b0-bd9f-69cb41866056",
   "metadata": {},
   "outputs": [],
   "source": []
  },
  {
   "cell_type": "code",
   "execution_count": 246,
   "id": "ecfc3d1d-0ebb-40b7-ae7e-0ac38ac8eccf",
   "metadata": {},
   "outputs": [],
   "source": [
    "LIST_SHEARS = [\n",
    "'II',\n",
    "'ts_eps','dt_eps','dn_eps',\n",
    "'speed',\n",
    "'speed_std',\n",
    "'AOA', \n",
    "'P',  \n",
    "'T','T1','T2','nu',\n",
    "'lon_eps',  \n",
    "'lon_eps',  \n",
    "'nu', \n",
    "'z',  \n",
    "    \n",
    "    \n",
    "'e1',\n",
    "'e2',  \n",
    "'sig_ln_e1',\n",
    "'sig_ln_e2',\n",
    "'sig_ln_psi_on_sqrt_Ns1',\n",
    "'sig_ln_psi_on_sqrt_Ns2',\n",
    "\n",
    "\n",
    "'kmin1','kmin2',\n",
    "    \n",
    "'kmax1',\n",
    "'kmax2',  \n",
    "'dof_e1',\n",
    "'dof_e2',  \n",
    "'method_sh1',\n",
    "'method_sh2',  \n",
    "'fm1',\n",
    "'fm2',\n",
    "'mad1',\n",
    "'mad2',  \n",
    "'Vf1',\n",
    "'Vf2',\n",
    "'Ns1','Ns2',\n",
    "    \n",
    "'dspk_cntpass1',\n",
    "'dspk_cntpass2',\n",
    "    \n",
    "'dspk_frac1',\n",
    "'dspk_frac2',\n",
    "    \n",
    "'Q1', 'Q2',\n",
    "'Q_aoa', \n",
    "'Q_e1_eratio', 'Q_e2_eratio',\n",
    "'Q_figofmer1', 'Q_figofmer2',\n",
    "'Q_spikfrac1', 'Q_spikfrac2',\n",
    "'Q_spikpass1', 'Q_spikpass2',\n",
    "'Q_varresol1', 'Q_varresol2',\n",
    "\n",
    "\n",
    "\n",
    "    \n",
    "]  "
   ]
  },
  {
   "cell_type": "code",
   "execution_count": 247,
   "id": "340f77fd-af0c-4588-aada-c1423da9b3e8",
   "metadata": {},
   "outputs": [],
   "source": [
    "LIST_GLIDER = [\n",
    "'II',\n",
    "'ts_eps','dt_eps','dn_eps',\n",
    "'speed',\n",
    "'speed_std',\n",
    "'roll',\n",
    "'roll_gl',\n",
    "'pitch',\n",
    "'pitch_gl',\n",
    "'AOA', \n",
    "'P',  \n",
    "'T','T1','T2','nu',\n",
    "'P','C','SP','SA', 'rho',\n",
    "]"
   ]
  },
  {
   "cell_type": "code",
   "execution_count": null,
   "id": "ea76d90c-320c-45e4-8876-921e33166544",
   "metadata": {},
   "outputs": [],
   "source": []
  },
  {
   "cell_type": "code",
   "execution_count": 248,
   "id": "c881e6bb-ab15-438f-973c-66b578536e41",
   "metadata": {},
   "outputs": [],
   "source": [
    "LIST_SECTION = [\n",
    "'II_u',\n",
    "'ts_eps_u','dt_eps_u','dn_eps_u',\n",
    "'despike_sh1_ratio',\n",
    "'despike_sh2_ratio',\n",
    "'despike_sh1_passcount',\n",
    "'despike_sh2_passcount',\n",
    "\n",
    "'fs_fast',\n",
    "'fs_slow',\n",
    "'direction_section',\n",
    "'speed_mean',\n",
    "'vehicle_length',\n",
    "'tau_to_avoidadv',\n",
    "'tau_to_resolve_05cpm',\n",
    "'tau_fft',\n",
    "'c1',\n",
    "'c2',\n",
    "'Th_source_logic',\n",
    "'T_source_logic',\n",
    "'f_AA',\n",
    "'fft_length',\n",
    "'diss_length',\n",
    "'overlap',\n",
    "'goodman',\n",
    "'Fhp',\n",
    "'kl',\n",
    "'L_fft',\n",
    "'N_fft',\n",
    "\n",
    "'figofmer_fail',\n",
    "'epsratio_fail_vsr_thresh',\n",
    "'epsratio_fail_isr_thresh',\n",
    "'spikfrac_fail',\n",
    "'spikfrac_failr',\n",
    "'spikpass_fail',\n",
    "'varresol_fail',\n",
    "'f_limit',\n",
    "'fit_2_isr',\n",
    "'spectral_model',\n",
    "'npoles',\n",
    "'sL',\n",
    "'sW',\n",
    "'sOV',\n",
    "'Tdis',\n",
    "'q',\n",
    "'tau_0',\n",
    "'time_corr',\n",
    "'int_range',  \n",
    "]"
   ]
  },
  {
   "cell_type": "code",
   "execution_count": null,
   "id": "c5db1be6-e442-4aca-a468-c4d9f1dc7651",
   "metadata": {},
   "outputs": [],
   "source": []
  },
  {
   "cell_type": "code",
   "execution_count": 249,
   "id": "5da534af-347e-4e3b-a11a-6ddcdaa4d1bf",
   "metadata": {},
   "outputs": [
    {
     "name": "stderr",
     "output_type": "stream",
     "text": [
      "100%|██████████| 3503/3503 [39:05<00:00,  1.49it/s]\n"
     ]
    },
    {
     "name": "stdout",
     "output_type": "stream",
     "text": [
      "(1571516, 53)\n",
      "(3503, 48)\n",
      "(1571516, 20)\n"
     ]
    }
   ],
   "source": [
    "# SHEARS, SECTION, GLIDER\n",
    "#\n",
    "DF1 = pd.DataFrame()\n",
    "DF2 = pd.DataFrame()\n",
    "DF3 = pd.DataFrame()\n",
    "erreurs_idx = []\n",
    "for p in tqdm(range(len(res))):\n",
    "    fn = res[p]\n",
    "    \n",
    "    try:\n",
    "        with h5py.File(fn, 'r') as f:\n",
    "            all_data = load_h5_recursive(f)\n",
    "\n",
    "        for key in all_data.keys():\n",
    "            # print(key)\n",
    "            str2exec = key.split('/')[-1] +'= all_data[\"'+key+'\"].ravel()'\n",
    "            exec(str2exec)\n",
    "\n",
    "        dn = dn_eps \n",
    "        dt = np.array([datetime.fromordinal(int(d)) + timedelta(days=d % 1) - timedelta(days=366) for d in dn])\n",
    "        dt_eps = dt ; \n",
    "        ts = np.array([t.timestamp() for t in dt])\n",
    "        ts_eps = ts; \n",
    "        II = np.ones(ts_eps.shape)*p\n",
    "        dspk_cntpass1 = np.ones(ts_eps.shape)*despike_sh1_passcount\n",
    "        dspk_cntpass2 = np.ones(ts_eps.shape)*despike_sh2_passcount\n",
    "        kmin1 = np.ones(ts_eps.shape)*kl\n",
    "        kmin2 = np.ones(ts_eps.shape)*kl\n",
    "\n",
    "        II_u, ts_eps_u, dt_eps_u, dn_eps_u = [p], [ts_eps[0]], [dt_eps[0]], [dn_eps[0]]\n",
    "        goodman = 1 ; \n",
    "        fit_2_isr = 1e-5 ;\n",
    "        spectral_model = 1 ; #'Lueck'  \n",
    "        Tdis = 1; #'Kraichnan'\n",
    "        time_corr = 1 ; #'RSI'\n",
    "        int_range = 1 ; #'S'\n",
    "        npoles = 1 ; #'single' ;\n",
    "        epsratio_fail_vsr_thresh = 2.77 ; \n",
    "        epsratio_fail_isr_thresh = 4.2 ;\n",
    "        \n",
    "       \n",
    "        #\n",
    "        L = LIST_SHEARS\n",
    "        loaded_data = {var: globals()[var] for var in L}  # Accès aux variables chargées\n",
    "        df = pd.DataFrame(loaded_data)\n",
    "        DF1 = pd.concat([DF1, df], ignore_index=True)\n",
    "        del loaded_data, df\n",
    "        \n",
    "        L = LIST_SECTION\n",
    "        loaded_data = {var: globals()[var] for var in L}  # Accès aux variables chargées\n",
    "        df = pd.DataFrame(loaded_data)\n",
    "        DF2 = pd.concat([DF2, df], ignore_index=True)\n",
    "        del loaded_data, df\n",
    "        \n",
    "        L = LIST_GLIDER\n",
    "        loaded_data = {var: globals()[var] for var in L}  # Accès aux variables chargées\n",
    "        df = pd.DataFrame(loaded_data)\n",
    "        DF3 = pd.concat([DF3, df], ignore_index=True)\n",
    "        del loaded_data, df\n",
    "        \n",
    "        \n",
    "\n",
    "\n",
    "    except OSError:\n",
    "        erreurs_idx.append(p)\n",
    "        continue  # on ignore et on continue\n",
    "            \n",
    "DF1 = DF1.sort_values(by='dt_eps')\n",
    "DF1 = DF1.reset_index(drop=True)\n",
    "SHEARS = DF1.copy()\n",
    "\n",
    "DF3 = DF3.sort_values(by='dt_eps')\n",
    "DF3 = DF3.reset_index(drop=True)\n",
    "GLIDER = DF3.copy()\n",
    "\n",
    "\n",
    "DF2 = DF2.sort_values(by='dt_eps_u')\n",
    "DF2 = DF2.reset_index(drop=True)\n",
    "SECTION = DF2.copy()\n",
    "del DF1, DF2, DF3\n",
    "\n",
    "print(SHEARS.shape)\n",
    "print(SECTION.shape)\n",
    "print(GLIDER.shape)"
   ]
  },
  {
   "cell_type": "code",
   "execution_count": 250,
   "id": "a2367ff2-e680-4669-9dce-748158b9910d",
   "metadata": {},
   "outputs": [
    {
     "ename": "NameError",
     "evalue": "name 'loaded_data' is not defined",
     "output_type": "error",
     "traceback": [
      "\u001b[0;31m---------------------------------------------------------------------------\u001b[0m",
      "\u001b[0;31mNameError\u001b[0m                                 Traceback (most recent call last)",
      "\u001b[0;32m<ipython-input-250-2405bb5bb79f>\u001b[0m in \u001b[0;36m<module>\u001b[0;34m\u001b[0m\n\u001b[1;32m      1\u001b[0m \u001b[0;31m# debug\u001b[0m\u001b[0;34m\u001b[0m\u001b[0;34m\u001b[0m\u001b[0;34m\u001b[0m\u001b[0m\n\u001b[0;32m----> 2\u001b[0;31m \u001b[0;32mfor\u001b[0m \u001b[0mname\u001b[0m\u001b[0;34m,\u001b[0m \u001b[0mvar\u001b[0m \u001b[0;32min\u001b[0m \u001b[0mloaded_data\u001b[0m\u001b[0;34m.\u001b[0m\u001b[0mitems\u001b[0m\u001b[0;34m(\u001b[0m\u001b[0;34m)\u001b[0m\u001b[0;34m:\u001b[0m\u001b[0;34m\u001b[0m\u001b[0;34m\u001b[0m\u001b[0m\n\u001b[0m\u001b[1;32m      3\u001b[0m     \u001b[0;32mtry\u001b[0m\u001b[0;34m:\u001b[0m\u001b[0;34m\u001b[0m\u001b[0;34m\u001b[0m\u001b[0m\n\u001b[1;32m      4\u001b[0m         \u001b[0mdim\u001b[0m \u001b[0;34m=\u001b[0m \u001b[0mvar\u001b[0m\u001b[0;34m.\u001b[0m\u001b[0mshape\u001b[0m\u001b[0;34m\u001b[0m\u001b[0;34m\u001b[0m\u001b[0m\n\u001b[1;32m      5\u001b[0m     \u001b[0;32mexcept\u001b[0m \u001b[0mAttributeError\u001b[0m\u001b[0;34m:\u001b[0m\u001b[0;34m\u001b[0m\u001b[0;34m\u001b[0m\u001b[0m\n",
      "\u001b[0;31mNameError\u001b[0m: name 'loaded_data' is not defined"
     ]
    }
   ],
   "source": [
    "# debug\n",
    "for name, var in loaded_data.items():\n",
    "    try:\n",
    "        dim = var.shape\n",
    "    except AttributeError:\n",
    "        try:\n",
    "            dim = (len(var),)\n",
    "        except:\n",
    "            dim = \"N/A\"\n",
    "    print(name, dim)"
   ]
  },
  {
   "cell_type": "code",
   "execution_count": null,
   "id": "70c4a562-846c-4eed-b19f-c51c03b5b16e",
   "metadata": {},
   "outputs": [],
   "source": [
    "npoles"
   ]
  },
  {
   "cell_type": "code",
   "execution_count": 251,
   "id": "7cfb7124-a7cb-477a-90de-aef35d8826f5",
   "metadata": {},
   "outputs": [
    {
     "name": "stdout",
     "output_type": "stream",
     "text": [
      "(1571516, 53) (1551524, 53)\n"
     ]
    }
   ],
   "source": [
    "XX = SHEARS.copy()\n",
    "xx = XX.drop_duplicates(subset='ts_eps')\n",
    "xx = xx.reset_index(drop=True)\n",
    "SHEARS2 = xx\n",
    "del xx\n",
    "print(SHEARS.shape,SHEARS2.shape)\n",
    "SHEARS = SHEARS2"
   ]
  },
  {
   "cell_type": "code",
   "execution_count": 252,
   "id": "a555a541-fdb3-4100-9d48-ab07da750c54",
   "metadata": {},
   "outputs": [
    {
     "name": "stdout",
     "output_type": "stream",
     "text": [
      "(1571516, 20) (1551524, 20)\n"
     ]
    }
   ],
   "source": [
    "XX = GLIDER.copy()\n",
    "xx = XX.drop_duplicates(subset='ts_eps')\n",
    "xx = xx.reset_index(drop=True)\n",
    "GLIDER2 = xx\n",
    "del xx\n",
    "print(GLIDER.shape,GLIDER2.shape)\n",
    "GLIDER = GLIDER2"
   ]
  },
  {
   "cell_type": "code",
   "execution_count": 253,
   "id": "e7837506-97a1-44dd-9270-0d51d37715d6",
   "metadata": {},
   "outputs": [
    {
     "name": "stdout",
     "output_type": "stream",
     "text": [
      "(3503, 48) (3446, 48)\n"
     ]
    }
   ],
   "source": [
    "XX = SECTION.copy()\n",
    "xx = XX.drop_duplicates(subset='ts_eps_u')\n",
    "xx = xx.reset_index(drop=True)\n",
    "SECTION2 = xx\n",
    "del xx\n",
    "print(SECTION.shape,SECTION2.shape)\n",
    "SECTION = SECTION2"
   ]
  },
  {
   "cell_type": "code",
   "execution_count": null,
   "id": "a02a13c8-8f17-405f-b1bb-4af94bd9c24d",
   "metadata": {},
   "outputs": [],
   "source": []
  },
  {
   "cell_type": "code",
   "execution_count": 254,
   "id": "fb806dba-33de-4d0f-8afd-609fca707bf9",
   "metadata": {},
   "outputs": [
    {
     "name": "stdout",
     "output_type": "stream",
     "text": [
      "Done\n"
     ]
    }
   ],
   "source": [
    "X = SHEARS.copy()\n",
    "FNAME = 'TERESA_MR_L4_processing_005_13072025_SHEARS.csv' \n",
    "out_path = '/Volumes/ORSO/TERESA/microrider/export/L4QC/'\n",
    "X.to_csv(out_path+FNAME, index = False)\n",
    "print('Done')\n",
    "del X"
   ]
  },
  {
   "cell_type": "code",
   "execution_count": 255,
   "id": "c79ece9f-2b7d-4e41-aa85-4ea541e59552",
   "metadata": {},
   "outputs": [
    {
     "name": "stdout",
     "output_type": "stream",
     "text": [
      "Done\n"
     ]
    }
   ],
   "source": [
    "X = SECTION.copy()\n",
    "FNAME = 'TERESA_MR_L4_processing_005_13072025_SECTION.csv' \n",
    "out_path = '/Volumes/ORSO/TERESA/microrider/export/L4QC/'\n",
    "X.to_csv(out_path+FNAME, index = False)\n",
    "print('Done')\n",
    "del X"
   ]
  },
  {
   "cell_type": "code",
   "execution_count": 256,
   "id": "78a9c90d-70d4-4b98-8aba-8aad588d0578",
   "metadata": {},
   "outputs": [
    {
     "name": "stdout",
     "output_type": "stream",
     "text": [
      "Done\n"
     ]
    }
   ],
   "source": [
    "X = GLIDER.copy()\n",
    "FNAME = 'TERESA_MR_L4_processing_005_13072025_GLIDER.csv' \n",
    "out_path = '/Volumes/ORSO/TERESA/microrider/export/L4QC/'\n",
    "X.to_csv(out_path+FNAME, index = False)\n",
    "print('Done')\n",
    "del X"
   ]
  },
  {
   "cell_type": "code",
   "execution_count": null,
   "id": "19418b4d-292f-496c-aba4-6918edb77cd5",
   "metadata": {},
   "outputs": [],
   "source": []
  },
  {
   "cell_type": "code",
   "execution_count": null,
   "id": "520234e9-0127-427e-8d72-a9f6f6ae5062",
   "metadata": {},
   "outputs": [],
   "source": []
  },
  {
   "cell_type": "code",
   "execution_count": null,
   "id": "06d1826b-91d7-4668-af70-bb822e478f15",
   "metadata": {},
   "outputs": [],
   "source": []
  },
  {
   "cell_type": "code",
   "execution_count": null,
   "id": "d2cbc4a9-445a-418b-b07a-bdd832d44d8c",
   "metadata": {},
   "outputs": [],
   "source": []
  },
  {
   "cell_type": "code",
   "execution_count": null,
   "id": "75c8b705-74f0-45d7-849b-ba40a34b70cc",
   "metadata": {},
   "outputs": [],
   "source": []
  },
  {
   "cell_type": "code",
   "execution_count": 257,
   "id": "3756056a-d3ae-447d-a09b-83f798957603",
   "metadata": {},
   "outputs": [],
   "source": [
    "LIST_THERMS = [\n",
    "'II',\n",
    "'ts_eT','dt_eT',\n",
    "'dn_eT1',\n",
    "'lon_eT1','lat_eT1',\n",
    "'Z_eT1','P_eT1','T_eT1','nu_eT1',  'td_eT1', \n",
    "'eT1','xit1','xiv1',\n",
    "'qc_flag_T1', 'qc_mad_ST1', 'qc_mad_T1',  'qc_mad_c1', \n",
    "'kB_T1',  \n",
    "'kL_T1', \n",
    "'kU_T1',\n",
    "'kP_T1',\n",
    "'likehratio1',\n",
    "    \n",
    "'dn_eT2',\n",
    "'lon_eT2','lat_eT2',\n",
    "'Z_eT2','P_eT2','T_eT2','nu_eT2',  'td_eT2', \n",
    "'eT2','xit2','xiv2',\n",
    "'qc_flag_T2', 'qc_mad_ST2', 'qc_mad_T2',  'qc_mad_c2',\n",
    "'kB_T2',  \n",
    "'kL_T2', \n",
    "'kU_T2',\n",
    "'kP_T2',\n",
    "'likehratio2', \n",
    "    \n",
    "'QC_FP07_1', 'QC_FP07_2', 'Q_T1',  'Q_T2', 'Q_T1T2_SPREAD', \n",
    "\n",
    "    \n",
    "    \n",
    "]"
   ]
  },
  {
   "cell_type": "code",
   "execution_count": null,
   "id": "c5f1bf53-5a9c-41b5-9d82-62734e30aaef",
   "metadata": {},
   "outputs": [],
   "source": []
  },
  {
   "cell_type": "code",
   "execution_count": 258,
   "id": "3b47a02c-8946-4920-9671-adb6e5d9df29",
   "metadata": {},
   "outputs": [
    {
     "name": "stderr",
     "output_type": "stream",
     "text": [
      "100%|██████████| 3503/3503 [29:23<00:00,  1.99it/s]\n"
     ]
    },
    {
     "data": {
      "text/plain": [
       "(1565527, 48)"
      ]
     },
     "execution_count": 258,
     "metadata": {},
     "output_type": "execute_result"
    }
   ],
   "source": [
    "# FP07-1,2\n",
    "\n",
    "DF = pd.DataFrame()\n",
    "erreurs_idxT = []\n",
    "#for p in range(3724,len(res)):\n",
    "#    p\n",
    "\n",
    "for p in tqdm(range(len(res))):\n",
    "    fn = res[p]\n",
    "\n",
    "    try:\n",
    "        with h5py.File(fn, 'r') as f:\n",
    "            all_data = load_h5_recursive(f)\n",
    "\n",
    "        for key in all_data.keys():\n",
    "            # print(key)\n",
    "            str2exec = key.split('/')[-1] +'= all_data[\"'+key+'\"].ravel()'\n",
    "            exec(str2exec)\n",
    "\n",
    "        dn = dn_eT1 \n",
    "        if dn[0]>0:\n",
    "            dt = np.array([datetime.fromordinal(int(d)) + timedelta(days=d % 1) - timedelta(days=366) for d in dn])\n",
    "            dt_eT = dt ; \n",
    "            ts = np.array([t.timestamp() for t in dt])\n",
    "            ts_eT = ts; \n",
    "            II = np.ones(ts_eT.shape)*p \n",
    "            \n",
    "\n",
    "            #dn = dn_eT \n",
    "            #dt = np.array([datetime.fromordinal(int(d)) + timedelta(days=d % 1) - timedelta(days=366) for d in dn])\n",
    "            #ts_eT = np.array([t.timestamp() for t in dt])\n",
    "            #dt_eT = dt ; \n",
    "            \n",
    "            L = LIST_THERMS\n",
    "            loaded_data = {var: globals()[var] for var in L}  # Accès aux variables chargées\n",
    "            df = pd.DataFrame(loaded_data)\n",
    "\n",
    "            DF = pd.concat([DF, df], ignore_index=True)\n",
    "\n",
    "    except OSError:\n",
    "        erreurs_idxT.append(p)\n",
    "        continue  # on ignore et on continue\n",
    "\n",
    "DF = DF.sort_values(by='dt_eT')\n",
    "DF = DF.reset_index(drop=True)\n",
    "THERMS = DF.copy()\n",
    "THERMS.shape"
   ]
  },
  {
   "cell_type": "code",
   "execution_count": 259,
   "id": "095fcd85-3c97-47b3-8814-3ec77a049d61",
   "metadata": {},
   "outputs": [
    {
     "name": "stdout",
     "output_type": "stream",
     "text": [
      "(1565527, 48) (1548828, 48)\n"
     ]
    }
   ],
   "source": [
    "XX = THERMS.copy()\n",
    "xx = XX.drop_duplicates(subset='ts_eT')\n",
    "xx = xx.reset_index(drop=True)\n",
    "THERMS2 = xx\n",
    "del xx\n",
    "print(THERMS.shape,THERMS2.shape)\n",
    "THERMS = THERMS2"
   ]
  },
  {
   "cell_type": "code",
   "execution_count": 260,
   "id": "01c1a36b-213e-4ded-8d2c-58cba03d7b21",
   "metadata": {},
   "outputs": [
    {
     "name": "stdout",
     "output_type": "stream",
     "text": [
      "Done\n"
     ]
    }
   ],
   "source": [
    "X = THERMS.copy()\n",
    "FNAME = 'TERESA_MR_L4_processing_005_13072025_THERMS.csv' \n",
    "out_path = '/Volumes/ORSO/TERESA/microrider/export/L4QC/'\n",
    "X.to_csv(out_path+FNAME, index = False)\n",
    "print('Done')\n",
    "del X"
   ]
  },
  {
   "cell_type": "markdown",
   "id": "71b6c00e-41d0-48cb-954d-194861be0420",
   "metadata": {
    "tags": []
   },
   "source": [
    "### LOAD CSV"
   ]
  },
  {
   "cell_type": "code",
   "execution_count": 9,
   "id": "b3ccd837-c595-49b0-8bae-6c35f2c8ab2f",
   "metadata": {},
   "outputs": [],
   "source": [
    "THERMS = pd.read_csv('/Volumes/ORSO/TERESA/microrider/export/L4QC/TERESA_MR_L4_processing_005_13072025_THERMS.csv')\n",
    "SHEARS = pd.read_csv('/Volumes/ORSO/TERESA/microrider/export/L4QC/TERESA_MR_L4_processing_005_13072025_SHEARS.csv')\n",
    "GLIDER = pd.read_csv('/Volumes/ORSO/TERESA/microrider/export/L4QC/TERESA_MR_L4_processing_005_13072025_GLIDER.csv')\n",
    "SECTION = pd.read_csv('/Volumes/ORSO/TERESA/microrider/export/L4QC/TERESA_MR_L4_processing_005_13072025_SECTION.csv')\n"
   ]
  },
  {
   "cell_type": "code",
   "execution_count": 10,
   "id": "4d80e3d7-74a9-47b6-a119-e8ffb9ccd1cf",
   "metadata": {},
   "outputs": [],
   "source": [
    "N_SECTION = np.arange(len(SECTION['II_u']))\n",
    "SECTION['N_SECTION'] = N_SECTION \n",
    "\n",
    "TIME_SPECTRA_SHEAR = np.array(SHEARS['ts_eps'] )\n",
    "SHEARS['TIME_SPECTRA_SHEAR'] = TIME_SPECTRA_SHEAR\n",
    " \n",
    "TIME_SPECTRA_THERM = np.array(THERMS['ts_eT']  )\n",
    "THERMS['TIME_SPECTRA_THERM'] = TIME_SPECTRA_THERM\n",
    "\n",
    "N_SHEAR_SENSORS = np.array([2,1])\n",
    "#SHEARS['N_SHEAR_SENSORS'] = N_SHEAR_SENSORS\n",
    "\n",
    "N_THERM_SENSORS = np.array([2,1])\n",
    "#THERMS['N_THERM_SENSORS'] = N_THERM_SENSORS"
   ]
  },
  {
   "cell_type": "code",
   "execution_count": 11,
   "id": "1033d87f-8dd7-45db-9ccf-a362dcdaa7c0",
   "metadata": {},
   "outputs": [
    {
     "data": {
      "text/plain": [
       "[<matplotlib.lines.Line2D at 0x7f95e4b1ca60>]"
      ]
     },
     "execution_count": 11,
     "metadata": {},
     "output_type": "execute_result"
    },
    {
     "data": {
      "image/png": "[encoded data removed]",
      "text/plain": [
       "<Figure size 432x288 with 1 Axes>"
      ]
     },
     "metadata": {
      "needs_background": "light"
     },
     "output_type": "display_data"
    }
   ],
   "source": [
    "plt.plot(TIME_SPECTRA_THERM)"
   ]
  },
  {
   "cell_type": "markdown",
   "id": "37515aca-2236-4d7b-af26-1915895c1ed6",
   "metadata": {
    "tags": []
   },
   "source": [
    "### indexes"
   ]
  },
  {
   "cell_type": "code",
   "execution_count": 12,
   "id": "5c34e20d-cdc5-4dcf-b966-6127005fd1fb",
   "metadata": {},
   "outputs": [],
   "source": [
    "II_u = np.array(SECTION['II_u'])\n",
    "II = np.array(SHEARS['II'])\n",
    "IIT = np.array(THERMS['II']); \n",
    "\n"
   ]
  },
  {
   "cell_type": "markdown",
   "id": "5199fd52-23a5-4042-8a3c-3a29a5934317",
   "metadata": {
    "tags": []
   },
   "source": [
    "### GPS"
   ]
  },
  {
   "cell_type": "code",
   "execution_count": 13,
   "id": "6f4657eb-7fce-4bc6-9e11-56ca14fc3267",
   "metadata": {},
   "outputs": [],
   "source": [
    "GPS = pd.read_csv('/Volumes/ORSO/TERESA/glider/GPS/df_GPS.csv')\n",
    "ts_gl = np.array(GPS['ts_gl'])\n",
    "lon_gl = np.array(GPS['lon_gl'])\n",
    "lat_gl = np.array(GPS['lat_gl'])"
   ]
  },
  {
   "cell_type": "markdown",
   "id": "836259c1-d8bb-45d2-a25c-6576763b3fc1",
   "metadata": {
    "tags": []
   },
   "source": [
    "### TIME LON LAT"
   ]
  },
  {
   "cell_type": "code",
   "execution_count": 14,
   "id": "e5af96f3-005b-4b9c-971e-1ad2ac767295",
   "metadata": {},
   "outputs": [
    {
     "name": "stdout",
     "output_type": "stream",
     "text": [
      "-0.7393724128121866 10.0\n"
     ]
    }
   ],
   "source": [
    "z = np.array(SHEARS['z']) \n",
    "dt = np.array(pd.to_datetime(SHEARS['dt_eps']))\n",
    "ts = np.array((SHEARS['ts_eps']))\n",
    "yyyy = dt.astype('datetime64[Y]').astype(int) + 1970\n",
    "\n",
    "mm = dt.astype('datetime64[M]').astype(int) % 12 + 1\n",
    "dy = (dt - dt.astype('datetime64[Y]')).astype('timedelta64[D]').astype(int) + 1\n",
    "wy = (dy - 1) // 7 + 1\n",
    "\n",
    "#lon = np.array(SHEARS['lon_eps'])\n",
    "#lat = np.array(SHEARS['lat_eps'])\n",
    "\n",
    "II = np.array(SHEARS['II'])\n",
    "\n",
    "T = np.array(SHEARS['T'])\n",
    "T1 = np.array(SHEARS['T1'])\n",
    "T2 = np.array(SHEARS['T2'])\n",
    "\n",
    "elapsed = (dt - dt[0]).astype('timedelta64[s]').astype(int)\n",
    "print(np.nanmedian(np.diff(z)),np.nanmedian(np.diff(elapsed)))"
   ]
  },
  {
   "cell_type": "code",
   "execution_count": 15,
   "id": "d6190183-2834-4c94-be29-f9b4958f497b",
   "metadata": {},
   "outputs": [
    {
     "data": {
      "text/plain": [
       "[<matplotlib.lines.Line2D at 0x7f95fbbb77c0>]"
      ]
     },
     "execution_count": 15,
     "metadata": {},
     "output_type": "execute_result"
    },
    {
     "data": {
      "image/png": "[encoded data removed]",
      "text/plain": [
       "<Figure size 216x144 with 1 Axes>"
      ]
     },
     "metadata": {
      "needs_background": "light"
     },
     "output_type": "display_data"
    }
   ],
   "source": [
    "longl = interpholes(ts_gl,lon_gl,ts)\n",
    "latgl = interpholes(ts_gl,lat_gl,ts)\n",
    "\n",
    "fig , axs =  plt.subplots(1, 1, figsize=(3,2))\n",
    "ax = axs\n",
    "ax.set_xlabel('')\n",
    "ax.set_ylabel('')\n",
    "ax.grid()\n",
    "ax.plot(longl,latgl,'.',alpha=.5,color='gray')"
   ]
  },
  {
   "cell_type": "code",
   "execution_count": 16,
   "id": "c0b1c0fb-0333-4add-ba0c-864235ec1b58",
   "metadata": {},
   "outputs": [
    {
     "name": "stdout",
     "output_type": "stream",
     "text": [
      "-0.7302854049133991 10.0\n"
     ]
    }
   ],
   "source": [
    "tsT = np.array((THERMS['ts_eT']))\n",
    "zT = np.array(THERMS['Z_eT1'])\n",
    "dtT = np.array(pd.to_datetime(THERMS['dt_eT']))\n",
    "tsT = np.array((THERMS['ts_eT']))\n",
    "yyyyT = dtT.astype('datetime64[Y]').astype(int) + 1970\n",
    "\n",
    "mmT = dtT.astype('datetime64[M]').astype(int) % 12 + 1\n",
    "dyT = (dtT - dtT.astype('datetime64[Y]')).astype('timedelta64[D]').astype(int) + 1\n",
    "wyT = (dyT - 1) // 7 + 1\n",
    "\n",
    "#lonT = np.array(THERMS['lon_eT1'])[idx1]\n",
    "#latT = np.array(THERMS['lat_eT1'])[idx1]\n",
    "IIT = np.array(THERMS['II'])\n",
    "T_eT1 = np.array(THERMS['T_eT1'])\n",
    "\n",
    "T_eT1 = np.array(THERMS['T_eT2'])\n",
    "\n",
    "elapsed = (dtT - dtT[0]).astype('timedelta64[s]').astype(int)\n",
    "print(np.nanmedian(np.diff(zT)),np.nanmedian(np.diff(elapsed)))"
   ]
  },
  {
   "cell_type": "code",
   "execution_count": 17,
   "id": "27ff5c10-131c-4017-a469-2f204ea59b5f",
   "metadata": {},
   "outputs": [],
   "source": [
    "longlT = interpholes(ts_gl,lon_gl,tsT)\n",
    "latglT = interpholes(ts_gl,lat_gl,tsT)"
   ]
  },
  {
   "cell_type": "markdown",
   "id": "ad7643bf-d3e8-4dd5-a5bf-0a639ccc6eef",
   "metadata": {
    "tags": []
   },
   "source": [
    "### COORDS"
   ]
  },
  {
   "cell_type": "code",
   "execution_count": 18,
   "id": "70c06438-af2f-4809-ac7b-811d17014374",
   "metadata": {},
   "outputs": [],
   "source": [
    "lonT = longlT\n",
    "latT = latglT\n",
    "\n",
    "lon = longl\n",
    "lat = latgl\n",
    "\n",
    "SHEARS['lon'] = lon ;\n",
    "SHEARS['lat'] = lat ;\n",
    "THERMS['lonT'] = lonT ;\n",
    "THERMS['latT'] = latT ;\n"
   ]
  },
  {
   "cell_type": "markdown",
   "id": "aae62462-6a29-473b-ab6a-51b29029530e",
   "metadata": {
    "tags": []
   },
   "source": [
    "### Epsilon"
   ]
  },
  {
   "cell_type": "code",
   "execution_count": 19,
   "id": "ee4b9be2-38e6-4fd3-941d-f91538cbbbbf",
   "metadata": {},
   "outputs": [],
   "source": [
    "e1 = np.array(SHEARS['e1'])\n",
    "e2 = np.array(SHEARS['e2'])\n",
    "\n",
    "Q1 = np.array(SHEARS['Q1'])\n",
    "Q2 = np.array(SHEARS['Q2'])\n",
    "\n",
    "Q_figofmer1= np.array(SHEARS['Q_figofmer1'])\n",
    "Q_figofmer2 = np.array(SHEARS['Q_figofmer2'])\n",
    "Q_spikfrac1 = np.array(SHEARS['Q_spikfrac1'])\n",
    "Q_spikfrac2 = np.array(SHEARS['Q_spikfrac2'])\n",
    "Q_e1_eratio = np.array(SHEARS['Q_e1_eratio'])\n",
    "Q_e2_eratio = np.array(SHEARS['Q_e2_eratio'])\n",
    "Q_spikpass1 = np.array(SHEARS['Q_spikpass1'])\n",
    "Q_spikpass2 = np.array(SHEARS['Q_spikpass2'])\n",
    "Q_varresol1 = np.array(SHEARS['Q_varresol1'])\n",
    "Q_varresol2 = np.array(SHEARS['Q_varresol2'])\n",
    "\n",
    "Q_aoa = np.array(SHEARS['Q_aoa'])\n"
   ]
  },
  {
   "cell_type": "markdown",
   "id": "132000ec-5a25-4114-8e5e-65f5281c034d",
   "metadata": {
    "tags": []
   },
   "source": [
    "### QC MODIF"
   ]
  },
  {
   "cell_type": "code",
   "execution_count": null,
   "id": "0eea43b0-a2d8-4d49-8612-312fb99f88b5",
   "metadata": {},
   "outputs": [],
   "source": []
  },
  {
   "cell_type": "code",
   "execution_count": 22,
   "id": "1eb16384-3547-4370-b7b1-efdcca732010",
   "metadata": {},
   "outputs": [],
   "source": [
    "FOM1 = np.array(SHEARS['fm1'])\n",
    "FOM2 = np.array(SHEARS['fm2'])"
   ]
  },
  {
   "cell_type": "code",
   "execution_count": 21,
   "id": "7e6039c8-f9eb-4aec-9a9c-0d97ec7ae13b",
   "metadata": {},
   "outputs": [],
   "source": [
    "Q_FOM1 = np.array([0]*len(FOM1))\n",
    "Q_FOM2 = np.array([0]*len(FOM2))\n",
    "f1 = np.where( (FOM1>1.4) )[0]\n",
    "f2 = np.where( (FOM2>1.4) )[0]\n",
    "Q_FOM1[f1] = 1 ;\n",
    "Q_FOM2[f2] = 1 ; "
   ]
  },
  {
   "cell_type": "code",
   "execution_count": 720,
   "id": "bed7c875-5f01-4612-b293-bb492c5ad1b3",
   "metadata": {},
   "outputs": [],
   "source": [
    "Q1 = Q1 - Q_FOM1 \n",
    "Q2 = Q2 - Q_FOM1 "
   ]
  },
  {
   "cell_type": "code",
   "execution_count": 721,
   "id": "9d6cde7e-55d6-4981-895d-b2aa64ca93ac",
   "metadata": {},
   "outputs": [],
   "source": [
    "Q_FOM1 = np.array([0]*len(FOM1))\n",
    "Q_FOM2 = np.array([0]*len(FOM2))\n",
    "f1 = np.where( (FOM1>1.7) )[0]\n",
    "f2 = np.where( (FOM2>1.7) )[0]\n",
    "Q_FOM1[f1] = 1 ;\n",
    "Q_FOM2[f2] = 1 ; \n",
    "f1 = np.where( (FOM1>1.4) & (FOM1 <= 1.7))[0]\n",
    "f2 = np.where( (FOM2>1.4) & (FOM1 <= 1.7))[0]\n",
    "Q_FOM1[f1] = 256 ;\n",
    "Q_FOM2[f2] = 256 ; \n",
    "Q1 = Q1+Q_FOM1 ; \n",
    "Q2 = Q2+Q_FOM2 ; "
   ]
  },
  {
   "cell_type": "code",
   "execution_count": 722,
   "id": "501137bb-201c-4742-90ca-8987dc5ec78d",
   "metadata": {},
   "outputs": [],
   "source": [
    "SHEARS['Q1'] = Q1 \n",
    "SHEARS['Q2'] = Q2 "
   ]
  },
  {
   "cell_type": "markdown",
   "id": "fcae0b71-1ed0-449a-bc09-0cd139b8a0f7",
   "metadata": {
    "tags": []
   },
   "source": [
    "### Chi chi chi "
   ]
  },
  {
   "cell_type": "code",
   "execution_count": 23,
   "id": "c3664fb9-f457-4ba9-b08a-5f007a6d4404",
   "metadata": {},
   "outputs": [],
   "source": [
    "xi1 = np.array(THERMS['xit1'])\n",
    "xi2 = np.array(THERMS['xit2'])\n",
    "\n",
    "QC_FP07_1 = np.array(THERMS['QC_FP07_1'])\n",
    "QC_FP07_2 = np.array(THERMS['QC_FP07_2'])\n",
    "Q_T1 = np.array(THERMS['Q_T1'])\n",
    "Q_T2 = np.array(THERMS['Q_T2'])\n",
    "Q_T1T2_SPREAD = np.array(THERMS['Q_T1T2_SPREAD'])\n"
   ]
  },
  {
   "cell_type": "code",
   "execution_count": 24,
   "id": "8fa6e599-85f8-4716-9e94-ae9cc7f8d49e",
   "metadata": {},
   "outputs": [
    {
     "name": "stdout",
     "output_type": "stream",
     "text": [
      "1548828 1548828\n"
     ]
    }
   ],
   "source": [
    "print(len(Q_T1),len(Q_T2))"
   ]
  },
  {
   "cell_type": "markdown",
   "id": "fdeb225a-93fc-42e5-8b31-759ecf034746",
   "metadata": {
    "tags": []
   },
   "source": [
    "### QC CHOICES AND COMBINATIONS"
   ]
  },
  {
   "cell_type": "code",
   "execution_count": 25,
   "id": "b1df27cb-b3fb-4e88-823f-baf5265266a9",
   "metadata": {},
   "outputs": [
    {
     "name": "stdout",
     "output_type": "stream",
     "text": [
      "259086 309802 299453 350169\n"
     ]
    }
   ],
   "source": [
    "qc0T1 = np.where( (QC_FP07_1 ==0)  )[0]\n",
    "qc0T1b = np.setdiff1d(np.arange(len(xi1)), qc0T1)\n",
    "\n",
    "qc0T2 = np.where( (QC_FP07_2 ==0)  )[0]\n",
    "qc0T2b = np.setdiff1d(np.arange(len(xi2)), qc0T2)\n",
    "\n",
    "qc0T = np.where( (QC_FP07_1 ==0) & (QC_FP07_2==0) )[0]\n",
    "qc0Tb = np.setdiff1d(np.arange(len(xi1)), qc0T)\n",
    "\n",
    "qc0T12 = np.where( (QC_FP07_1==0) | (QC_FP07_2==0)  )[0]\n",
    "qc0T12b = np.setdiff1d(np.arange(len(xi2)), qc0T12)\n",
    "\n",
    "\n",
    "print(len(qc0T),len(qc0T1),len(qc0T2),len(qc0T12))\n",
    "\n",
    "\n",
    "xi = (xi1+xi2)/2\n",
    "xixi = np.array([np.nan]*len(xi))\n",
    "\n",
    "\n",
    "\n",
    "xixi[qc0T] = xi[qc0T]\n",
    "\n",
    "THERMS['xixi'] = xixi "
   ]
  },
  {
   "cell_type": "code",
   "execution_count": 26,
   "id": "af8b215c-13a4-4b91-aa28-42c6f7148a47",
   "metadata": {},
   "outputs": [
    {
     "name": "stdout",
     "output_type": "stream",
     "text": [
      "157039 162439 435071 490674\n"
     ]
    }
   ],
   "source": [
    "\n",
    "ee = (e1+e2)/2\n",
    "\n",
    "#------------\n",
    "qc0 = np.where( (Q1==0) & (Q2==0) & (np.isfinite(ee)==True))[0]\n",
    "qc2 = np.where( (Q1==2) & (Q2==2)& (np.isfinite(ee)==True))[0]\n",
    "qc32 = np.where( (Q1==32) & (Q2==32)& (np.isfinite(ee)==True))[0]\n",
    "\n",
    "qc032 = np.sort(np.concatenate((qc0,qc32)))\n",
    "\n",
    "qc0_1 = np.where( (Q1==0) & (np.isfinite(e1)==True))[0]\n",
    "qc0_2 = np.where( (Q2==0) & (np.isfinite(e2)==True))[0]\n",
    "\n",
    "qc32_1 = np.where( (Q1==32)& (np.isfinite(e1)==True) )[0]\n",
    "qc32_2 = np.where( (Q2==32)& (np.isfinite(e2)==True) )[0]\n",
    "\n",
    "qc8_1 = np.where( (Q1==8) & (np.isfinite(e1)==True))[0]\n",
    "qc8_2 = np.where( (Q2==8) & (np.isfinite(e2)==True))[0]\n",
    "\n",
    "qc0b = np.setdiff1d(np.arange(len(e1)), qc0)\n",
    "qc32b = np.setdiff1d(np.arange(len(e1)), qc32)\n",
    "qc032b = np.setdiff1d(np.arange(len(e1)), qc32b)\n",
    "\n",
    "print(len(qc0),len(qc032),len(qc0_1),len(qc0_2))\n",
    "\n",
    "\n",
    "eeee = np.array([np.nan]*len(ee))\n",
    "eeee[qc0] = ee[qc0]\n",
    "SHEARS['eeee'] = eeee \n",
    "\n",
    "ee1 = ee*np.nan\n",
    "ee2 = ee*np.nan\n",
    "ee1[qc0_1] = e1[qc0_1]\n",
    "ee2[qc0_2] = e2[qc0_2]\n"
   ]
  },
  {
   "cell_type": "code",
   "execution_count": 343,
   "id": "0f4b64be-e90e-404f-8aa0-aaf7f87a447c",
   "metadata": {},
   "outputs": [
    {
     "name": "stdout",
     "output_type": "stream",
     "text": [
      "————————————————————————————————————— \n",
      "TOTAL  sh1,2                  1551524 \n",
      "QC0    sh1,2 combined          157039 \n",
      "QC32   sh1,2 combined            5400 \n",
      "QC0,32 sh1,2 combined          162439 \n",
      "——— \n",
      "QC0    sh1 alone               435071 \n",
      "QC0    sh2 alone               490674 \n",
      " \n",
      "————————————————————————————————————— \n",
      "TOTAL  fp07 1,2               1548828 \n",
      "QC0    fp07 1,2 combined       259086 \n",
      "QC0    fp07 one among 1,2      350169 \n",
      "——— \n",
      "QC0    fp07 1 alone            309802 \n",
      "QC0    fp07 2 alone            299453 \n",
      "\n"
     ]
    }
   ],
   "source": [
    "print(      '—————————————————————————————————————',\n",
    "\n",
    "    '\\nTOTAL  sh1,2                 ',len(e1),\n",
    "      '\\nQC0    sh1,2 combined         ',len(qc0),\n",
    "      '\\nQC32   sh1,2 combined           ',len(qc32),\n",
    "      '\\nQC0,32 sh1,2 combined         ',len(qc032),\n",
    "      '\\n———',\n",
    "      '\\nQC0    sh1 alone              ',len(qc0_1),\n",
    "      '\\nQC0    sh2 alone              ',len(qc0_2),\n",
    "      '\\n',\n",
    "      '\\n—————————————————————————————————————',\n",
    "      '\\nTOTAL  fp07 1,2              ',len(xi1),\n",
    "      \n",
    "       '\\nQC0    fp07 1,2 combined      ',len(qc0T),\n",
    "      '\\nQC0    fp07 one among 1,2     ',len(qc0T12),\n",
    "      '\\n———',\n",
    "      '\\nQC0    fp07 1 alone           ',len(qc0T1),\n",
    "      '\\nQC0    fp07 2 alone           ',len(qc0T2),\n",
    "      '\\n'\n",
    "     )"
   ]
  },
  {
   "cell_type": "code",
   "execution_count": null,
   "id": "eaff6dcf-56fe-4719-86d7-058cfbce9105",
   "metadata": {},
   "outputs": [],
   "source": []
  },
  {
   "cell_type": "code",
   "execution_count": null,
   "id": "6d4a6f27-a994-4905-a00a-b0643a3e0713",
   "metadata": {},
   "outputs": [],
   "source": []
  },
  {
   "cell_type": "code",
   "execution_count": null,
   "id": "4cadd568-22e2-46a1-9fcc-ce1373614944",
   "metadata": {},
   "outputs": [],
   "source": []
  },
  {
   "cell_type": "code",
   "execution_count": null,
   "id": "61db3215-d33b-49fe-aa75-002655b8fb53",
   "metadata": {},
   "outputs": [],
   "source": []
  },
  {
   "cell_type": "code",
   "execution_count": null,
   "id": "dbc93c1a-5da3-4b1b-a589-87050946b713",
   "metadata": {},
   "outputs": [],
   "source": []
  },
  {
   "cell_type": "code",
   "execution_count": null,
   "id": "651f7d00-8def-4495-840b-f77a0d8779b3",
   "metadata": {},
   "outputs": [],
   "source": []
  },
  {
   "cell_type": "code",
   "execution_count": null,
   "id": "447e3456-7fb3-4f4c-955e-12f53bed552f",
   "metadata": {},
   "outputs": [],
   "source": []
  },
  {
   "cell_type": "code",
   "execution_count": null,
   "id": "ad951acc-81fc-4ba1-bf3b-1e73cc8c2562",
   "metadata": {},
   "outputs": [],
   "source": []
  },
  {
   "cell_type": "code",
   "execution_count": null,
   "id": "f3fe4721-7f0e-4d40-b238-03f1c8ef35be",
   "metadata": {},
   "outputs": [],
   "source": []
  },
  {
   "cell_type": "code",
   "execution_count": null,
   "id": "b4ea25f4-47ae-46c8-8040-a72ea2638809",
   "metadata": {},
   "outputs": [],
   "source": []
  },
  {
   "cell_type": "code",
   "execution_count": null,
   "id": "b8462f7c-21ce-4c48-b461-a54a85b75db7",
   "metadata": {},
   "outputs": [],
   "source": []
  },
  {
   "cell_type": "code",
   "execution_count": null,
   "id": "a3a92371-6e41-45a8-b2ec-76eb8068c684",
   "metadata": {},
   "outputs": [],
   "source": []
  },
  {
   "cell_type": "markdown",
   "id": "6f4a3bed-bc00-4e82-9202-c78e43a7704b",
   "metadata": {
    "tags": []
   },
   "source": [
    "### Variables 2,1"
   ]
  },
  {
   "cell_type": "code",
   "execution_count": 27,
   "id": "c6ed8b3b-7ff7-48ef-80df-0f1adcd32aca",
   "metadata": {},
   "outputs": [],
   "source": [
    "e1e2 = np.array(SHEARS[['e1','e2']])\n",
    "estd1estd2_vsr = np.array(SHEARS[['sig_ln_e1','sig_ln_e1']])\n",
    "estd1estd2_isr = np.array(SHEARS[['sig_ln_psi_on_sqrt_Ns1','sig_ln_psi_on_sqrt_Ns2']])\n",
    "Q1Q2 = np.array(SHEARS[['Q1','Q2']])\n",
    "kmin1kmin2 = np.array(SHEARS[['kmin1','kmin2']])\n",
    "kmax1kmax2 = np.array(SHEARS[['kmax1','kmax2']])\n",
    "Ns1Ns2 = np.array(SHEARS[['Ns1','Ns2']])\n",
    "fm1fm2 = np.array(SHEARS[['fm1','fm2']])\n",
    "mad1mad2 = np.array(SHEARS[['mad1','mad2']])\n",
    "Vf1Vf2 = np.array(SHEARS[['Vf1','Vf2']])\n",
    "frac1frac2 = np.array(SHEARS[['dspk_frac1','dspk_frac2']])\n",
    "pass1pass2 = np.array(SHEARS[['dspk_cntpass1','dspk_cntpass2']])\n",
    "\n",
    "xi1xi2 = np.array(THERMS[['xit1','xit2']])\n",
    "QT1QT2 = np.array(THERMS[['QC_FP07_1','QC_FP07_2']])\n",
    "kB1kB2 = np.array(THERMS[['kB_T1','kB_T2']])\n",
    "kL1kL2 = np.array(THERMS[['kL_T1','kL_T2']])\n",
    "kU1kU2 = np.array(THERMS[['kU_T1','kU_T2']])\n",
    "kP1kP2 = np.array(THERMS[['kP_T1','kP_T2']])\n",
    "LR1LR2 = np.array(THERMS[['likehratio1','likehratio2']])\n",
    "madT1madT2 = np.array(THERMS[['qc_mad_T1','qc_mad_T2']])\n",
    "madcT1madcT2 = np.array(THERMS[['qc_mad_c1','qc_mad_c2']])"
   ]
  },
  {
   "cell_type": "markdown",
   "id": "1cfccf38-d7a1-4711-b251-7a4a0808d761",
   "metadata": {
    "tags": []
   },
   "source": [
    "### GLOBAL attributes"
   ]
  },
  {
   "cell_type": "raw",
   "id": "daef8df1-5414-4905-8588-63e6f9d19967",
   "metadata": {},
   "source": [
    "globalattr.fs_fast = 'Sampling frequency for fast (turbulence) channels; ATOMIX'\n",
    "globalattr.fs_slow = 'Sampling frequency for slow channels (if exists). Alternative names could be, e.g., fs_ctd; ATOMIX'\n",
    "globalattr.profiling_direction = 'Direction along which the section was collected, e.g., horizontal, vertical, or glide; ATOMIX'\n",
    "globalattr.fft_length = 'Length of the Fast Fourier transform segments (in data points; note, fft_length_sec in seconds is optional); ATOMIX'\n",
    "globalattr.diss_length = 'Length of data (in data points) used for each dissipation estimate; ATOMIX'\n",
    "globalattr.overlap = 'Length of overlap (in data points) in diss_length; ATOMIX'\n",
    "globalattr.goodman = 'Flag for the vibration coherent noise removal using the Goodman algorithm. 0 = not applied; 1 = applied; ATOMIX'\n",
    "globalattr.HP_cut = 'The high-pass filter cutoff frequency in Hz. Can be zero for no filtering; ATOMIX'\n",
    "\n",
    "globalattr.fft_length_sec = 'Length of the Fast Fourier transform segments in seconds; ATOMIX'\n",
    "globalattr.diss_length_sec = 'Dissipation estimate data length in seconds; ATOMIX'\n",
    "globalattr.overlap_sec = 'Length of overlap (in seconds) in diss_length_sec; ATOMIX'\n",
    "globalattr.f_AA = 'The anti-aliasing frequency in Hz; ATOMIX'\n",
    "globalattr.FOM_limit = 'Figure of merit limit for quality assurance. Typically between 1.15 and 1.4; ATOMIX'\n",
    "globalattr.diss_ratio_limit = 'The limit to identify anomalously large disagreement between dissipation estimates from probes. The magnitude of the difference of the natural logarithm of two dissipation estimates should be smaller than diss_ratio_limit x σ(log(EPSI_STD)). Typically, 2.77; ATOMIX'\n",
    "globalattr.despike_shear_fraction_limit = 'The maximum allowed fraction of data (of each diss_length_sec length) removed by de-spiking. Typically, 0.05; ATOMIX'\n",
    "globalattr.despike_shear_iterations_limit = 'The maximum number of allowed iterations of de-spiking when producing the L2 shear probe data (one value per section). Typically 8; ATOMIX'\n",
    "globalattr.variance_resolved_limit = 'The minimum fraction of variance resolved in an estimate by spectral integration. Typically 0.6; ATOMIX'\n",
    "globalattr.f_limit = 'The upper limit to exclude frequencies from analysis. Typically infinity; ATOMIX'\n",
    "globalattr.fit_2_isr = 'Dissipation threshold for using the method of fitting in the inertial subrange. Typically 10^-5 W kg^-1; ATOMIX'\n",
    "globalattr.spectral_model = 'The model shear spectrum used in dissipation estimates with the integration method: e.g., Nasmyth, Lueck or Panchev-Kesich; ATOMIX'\n"
   ]
  },
  {
   "cell_type": "code",
   "execution_count": 28,
   "id": "7a218f97-ade0-458d-88b1-445dbde78715",
   "metadata": {},
   "outputs": [],
   "source": [
    "globalattr = SimpleNamespace()"
   ]
  },
  {
   "cell_type": "code",
   "execution_count": 30,
   "id": "cabaa1a2-a343-45c2-acbc-ce6aab1ed187",
   "metadata": {},
   "outputs": [],
   "source": [
    "globalattr.title = 'A Reference Glider-Based Microstructure Dataset from the Western Mediterranean'\n",
    "globalattr.authors= 'Florian V. M. Kokoszka, Mireno Borghini, Katrin Schroeder, Jacopo Chiggiato, Albert Mirrales, Joaquín Tintoré, Nikolaos Zarokanellos, Albert Miralles, Patricia Rivera Rodríguez,Manuel Rubio, Miguel Charcos, Benjamín Casas, and Anneke T. Doeschate'\n",
    "globalattr.summary= 'We present a comprehensive dataset of turbulence microstructure measurements collected with a Micro Rider (MR) from Rockland Scientific International (RSI) mounted on the Slocum Deep Glider “Teresa” across repeated transects between Sardinia and the Balearic Islands (SMART missions, 2015–2024). This dataset constitutes one of the most extensive autonomous glider-based microstructure archives to date for the Western Mediterranean, containing glider sections and delivering quality-controlled vertical profiles of turbulent kinetic energy dissipation rate (ε) and thermal variance dissipation rate (χ) across seasonal cycles and diverse water masses. The data were processed through a rigorous multilevel workflow (L0–L4), following community best practices for calibration, quality control, and uncertainty quantification. Final products include ε estimates from dual shear probes and complementary χ-derived dissipation, aligned with co-located hydrographic and biogeochemical measurements. This dataset provides a high-resolution resource for investigating fine-scale mixing, validating parameterizations, and improving turbulence representation in models. All data and processing codes are openly provided to support reuse, reproducibility, and integration into global efforts advancing the inclusion of turbulence as an Essential Ocean Variable. '\n",
    "globalattr.comment = 'This dataset was collected using a MicroRider-1000 microstructure package mounted on the glider \"Teresa\" during repeated missions between Sardinia and the Balearic Islands (2015–2024). It includes quality-controlled estimates of ε and χ derived from shear probes and fast thermistors. The processing followed a multi-level workflow (L0–L4) using ODAS MATLAB routines and validated community practices, with attention to glider flight dynamics, sensor stability, and spectral fitting to turbulence models such as Nasmyth and Batchelor.'\n",
    "globalattr.platform= 'sub-surface glider'\n",
    "globalattr.source= 'MicroRider MR-1000-LP (RSI)'\n",
    "globalattr.date_created= '2025-07-27T12:00:00Z'\n",
    "globalattr.date_modified= '2025-07-27T12:00:00Z'\n",
    "globalattr.time_reference_year= '2015-2024'\n",
    "globalattr.time_coverage_start= '2015-08-12T10:32:44Z'\n",
    "globalattr.time_coverage_end= '2024-07-04T05:36:51Z'\n",
    "\n",
    "globalattr.area= 'Western Mediterranean Sea'\n",
    "globalattr.principal_investigator= 'Florian Volmer Martin Kokoszka, CNR-ISMAR, Napoli'\n",
    "globalattr.contact= 'Florian Volmer Martin Kokoszka, CNR-ISMAR, Napoli'\n",
    "globalattr.project= 'TOWARDS AN ALLIANCE OF EUROPEAN RESEARCH FLEETS'\n",
    "globalattr.cruise= 'SMART: Sardinia - MAllorca Repeated Transect'\n",
    "globalattr.references= 'Lueck et al. 2024; Fer et al. 2024; Le Boyer et al. 2023: Piccolroaz et al. 2021'\n",
    "globalattr.keywords= 'turbulence, microstructure, dissipation, thermal variance, glider, dataset'\n",
    "globalattr.creator_name= 'Florian Volmer Martin Kokoszka'\n",
    "globalattr.creator_email= 'florian.kokoszka @ na.ismar.it'\n",
    "globalattr.creator_url= 'https://orcid.org/0000-0001-5346-3058'\n",
    "globalattr.acknowledgement= 'We thank all the technicians and engineers at SOCIB (Balearic Islands Coastal Observing and Forecasting System, Palma, Spain) and Rockland Scientific for their essential work in the deployment operations and data support throughout the various mission years.'\n",
    "globalattr.station_name= 'SMART Transects'\n",
    "globalattr.license= 'http://creativecommons.org/licenses/by/4.0/'\n",
    "\n",
    "globalattr.vehicle= 'Glider'\n",
    "globalattr.model= 'Slocum Deep Glider G2 (Teledyne)'\n",
    "globalattr.instrument= 'MicroRider MR-1000-LP (RSI)'\n",
    "globalattr.institution= 'CNR-ISMAR'\n",
    "globalattr.address= 'CNR ISMAR – Institute of Marine Science, Arsenale – Tesa 104, Castello 2737/F, 30122 Venezia, Italy'\n",
    "globalattr.project= 'Eurofleets'\n",
    "globalattr.baselocation= 'Lerici (La Spezia), ITALY'\n",
    "globalattr.contacts= 'Mireno Borghini (PI), Katrin Schroeder (PI)'\n",
    "globalattr.history= 'Version 1.0, FK 07-2025'\n",
    "globalattr.conventions= 'CF-1.6, ACDD-1.3, ATOMIX-1.0'"
   ]
  },
  {
   "cell_type": "code",
   "execution_count": null,
   "id": "b5f6ec73-5208-4afa-ade8-30b3ca3387dc",
   "metadata": {},
   "outputs": [],
   "source": []
  },
  {
   "cell_type": "code",
   "execution_count": 31,
   "id": "77c692a4-ac96-45c1-ace8-994d9a36bbf2",
   "metadata": {},
   "outputs": [],
   "source": [
    "globalattr.geospatial_lat_max = np.nanmax(np.array(SHEARS['lat']))\n",
    "globalattr.geospatial_lat_min = np.nanmin(np.array(SHEARS['lat'])) \n",
    "globalattr.geospatial_lat_resolution = np.nan\n",
    "#m_globl.geospatial_lat_units = 'Decimal degree' ### defined in .xlsx\n",
    "\n",
    "globalattr.geospatial_lon_max = np.nanmax(np.array(SHEARS['lon']))\n",
    "globalattr.geospatial_lon_min = np.nanmin(np.array(SHEARS['lon']))\n",
    "globalattr.geospatial_lon_resolution = np.nan\n",
    "#m_globl.geospatial_lon_units = 'Decimal degree' ### defined in .xlsx\n",
    "\n",
    "globalattr.geospatial_vertical_max = np.nanmax(np.array(SHEARS['z']))\n",
    "globalattr.geospatial_vertical_min = np.nanmin(np.array(SHEARS['z']))\n",
    "#m_globl.geospatial_vertical_positive = np.nan ### defined in .xlsx\n",
    "#m_globl.geospatial_vertical_units = np.nan\n",
    "\n"
   ]
  },
  {
   "cell_type": "code",
   "execution_count": 34,
   "id": "feae8890-1894-47ea-a191-6c5b3e6bea18",
   "metadata": {},
   "outputs": [],
   "source": [
    "globalattr.fs_fast = '512 Hz'\n",
    "globalattr.fs_slow = '64 Hz'\n",
    "globalattr.goodman = 'True'\n",
    "globalattr.FOM_limit = 1.4\n",
    "globalattr.diss_ratio_limit = np.array([2.77,4.2])\n",
    "globalattr.despike_shear_fraction_limit = 0.05\n",
    "globalattr.despike_shear_fraction_limit_relax = 0.15\n",
    "globalattr.despike_shear_iterations_limit = 9\n",
    "globalattr.variance_resolved_limit = 0.6 \n",
    "globalattr.fit_2_isr = '10^-5 W kg^-1'\n",
    "globalattr.spectral_model_for_shears = 'Lueck'\n",
    "globalattr.spectral_model_for_FP07 = 'Kraichnan'\n",
    "globalattr.time_corr_for_FP07 = 'RSI'\n",
    "globalattr.int_range_for_FP07 = 'Steinbuck'\n",
    "globalattr.npoles_for_FP07 = 'single'\n",
    "\n",
    "\n",
    "        "
   ]
  },
  {
   "cell_type": "code",
   "execution_count": null,
   "id": "bed4ea59-bbc1-4f31-a391-5cc027c09b92",
   "metadata": {},
   "outputs": [],
   "source": []
  },
  {
   "cell_type": "markdown",
   "id": "3ff985fc-3692-4623-99c6-98fd9a715eb1",
   "metadata": {
    "tags": []
   },
   "source": [
    "### NC FIELDS XLSX"
   ]
  },
  {
   "cell_type": "code",
   "execution_count": 35,
   "id": "0d4fbc24-0f74-4627-9601-e415f1e2e36b",
   "metadata": {},
   "outputs": [
    {
     "name": "stdout",
     "output_type": "stream",
     "text": [
      "05/22/2025 16:10:42   Metadata Model IT-IOOS.xlsx \n",
      "07/14/2025 18:54:02   Metadata Model IT-IOOS_GLIDER_TERESA_MICRORIDER.xlsx \n",
      "07/26/2025 11:08:34   ~$DF-NC.xlsx \n",
      "07/27/2025 07:12:14   DF-NC.xlsx \n",
      "Found: 4\n",
      "latest_file  :  DF-NC.xlsx\n",
      "DF-NC.xlsx\n",
      "['Feuille 1']\n"
     ]
    },
    {
     "data": {
      "text/plain": [
       "Index(['Dataframe variable', 'Dataframe', 'Variable name', 'VarType',\n",
       "       'Standard Name', 'Units', 'Description', 'Dim1', 'Dim2', 'Unnamed: 9',\n",
       "       'Unnamed: 10'],\n",
       "      dtype='object')"
      ]
     },
     "execution_count": 35,
     "metadata": {},
     "output_type": "execute_result"
    }
   ],
   "source": [
    "meta_path = '/Users/floriankokoszka/Desktop/TERESA/microrider/metadata/'\n",
    "\n",
    "import os\n",
    "import glob\n",
    "import time\n",
    "\n",
    "dir_pth =  '/Users/floriankokoszka/Desktop/TERESA/microrider/metadata/'  \n",
    "file_typ = '*.xls*'  # Extension \n",
    "\n",
    "# list files\n",
    "list_of_files = sorted(\n",
    "    glob.glob(os.path.join(dir_pth, file_typ)),\n",
    "    key=os.path.getmtime)\n",
    "\n",
    "# show filenames with dates of modification\n",
    "for fp in list_of_files:\n",
    "    timestamp_str = time.strftime('%m/%d/%Y %H:%M:%S', time.gmtime(os.path.getmtime(fp)))\n",
    "    print(f\"{timestamp_str}   {fp.split('/')[-1]} \") \n",
    "    meta_file = list_of_files[-1].split('/')[-1]\n",
    "    latest_index = len(list_of_files) - 1\n",
    "# \n",
    "print(f\"Found: {len(list_of_files)}\")\n",
    "print(f\"latest_file  : \",meta_file)\n",
    "\n",
    "meta_file = 'DF-NC.xlsx'\n",
    "\n",
    "metaexcel_path = os.path.join(meta_path, meta_file)\n",
    "metadata_filename = metaexcel_path.split('/')[-1]\n",
    "metaexcel_sheets = pd.ExcelFile(metaexcel_path).sheet_names\n",
    "print(metadata_filename)\n",
    "print(metaexcel_sheets)\n",
    "\n",
    "fields = pd.read_excel(metaexcel_path)\n",
    "fields.columns"
   ]
  },
  {
   "cell_type": "markdown",
   "id": "7ddca750-58ea-46f4-8072-47c018b4c2d7",
   "metadata": {},
   "source": [
    "### NETCDF"
   ]
  },
  {
   "cell_type": "code",
   "execution_count": 37,
   "id": "2dd62a07-9217-420c-b3ad-ee26b3570464",
   "metadata": {},
   "outputs": [],
   "source": [
    "nc_path = '/Volumes/ORSO/TERESA/microrider/export/L4QC/'\n",
    "nc_name = 'TERESA_MR_SMART_MISSIONS_2015_2024_L4_QC.nc' \n",
    "netcdf_path = os.path.join(nc_path, nc_name)"
   ]
  },
  {
   "cell_type": "code",
   "execution_count": 38,
   "id": "c7935c35-373e-43c2-b6b1-b38b80739182",
   "metadata": {},
   "outputs": [
    {
     "name": "stdout",
     "output_type": "stream",
     "text": [
      "Old file removed\n",
      "II_u N_SECTION\n",
      "fs_fast N_SECTION\n",
      "fs_slow N_SECTION\n",
      "direction_section N_SECTION\n",
      "speed_mean N_SECTION\n",
      "vehicle_length N_SECTION\n",
      "tau_to_avoidadv N_SECTION\n",
      "tau_to_resolve_05cpm N_SECTION\n",
      "tau_fft N_SECTION\n",
      "c1 N_SECTION\n",
      "c2 N_SECTION\n",
      "Th_source_logic N_SECTION\n",
      "T_source_logic N_SECTION\n",
      "f_AA N_SECTION\n",
      "fft_length N_SECTION\n",
      "diss_length N_SECTION\n",
      "overlap N_SECTION\n",
      "goodman N_SECTION\n",
      "Fhp N_SECTION\n",
      "kl N_SECTION\n",
      "L_fft N_SECTION\n",
      "N_fft N_SECTION\n",
      "figofmer_fail N_SECTION\n",
      "epsratio_fail_vsr_thresh N_SECTION\n",
      "epsratio_fail_isr_thresh N_SECTION\n",
      "spikfrac_fail N_SECTION\n",
      "spikfrac_failr N_SECTION\n",
      "spikpass_fail N_SECTION\n",
      "varresol_fail N_SECTION\n",
      "f_limit N_SECTION\n",
      "fit_2_isr N_SECTION\n",
      "spectral_model N_SECTION\n",
      "npoles N_SECTION\n",
      "sL N_SECTION\n",
      "sW N_SECTION\n",
      "sOV N_SECTION\n",
      "Tdis N_SECTION\n",
      "q N_SECTION\n",
      "tau_0 N_SECTION\n",
      "time_corr N_SECTION\n",
      "int_range N_SECTION\n",
      "II TIME_SPECTRA_SHEAR\n",
      "speed TIME_SPECTRA_SHEAR\n",
      "speed_std TIME_SPECTRA_SHEAR\n",
      "AOA TIME_SPECTRA_SHEAR\n",
      "P TIME_SPECTRA_SHEAR\n",
      "lon TIME_SPECTRA_SHEAR\n",
      "lat TIME_SPECTRA_SHEAR\n",
      "nu TIME_SPECTRA_SHEAR\n",
      "z TIME_SPECTRA_SHEAR\n",
      "e1e2 TIME_SPECTRA_SHEAR\n",
      "eeee TIME_SPECTRA_SHEAR\n",
      "estd1estd2_vsr TIME_SPECTRA_SHEAR\n",
      "estd1estd2_isr TIME_SPECTRA_SHEAR\n",
      "Q1Q2 TIME_SPECTRA_SHEAR\n",
      "kmin1kmin2 TIME_SPECTRA_SHEAR\n",
      "kmax1kmax2 TIME_SPECTRA_SHEAR\n",
      "Ns1Ns2 TIME_SPECTRA_SHEAR\n",
      "fm1fm2 TIME_SPECTRA_SHEAR\n",
      "mad1mad2 TIME_SPECTRA_SHEAR\n",
      "Vf1Vf2 TIME_SPECTRA_SHEAR\n",
      "frac1frac2 TIME_SPECTRA_SHEAR\n",
      "pass1pass2 TIME_SPECTRA_SHEAR\n",
      "II TIME_SPECTRA_THERM\n",
      "P_eT1 TIME_SPECTRA_THERM\n",
      "latT TIME_SPECTRA_THERM\n",
      "lonT TIME_SPECTRA_THERM\n",
      "nu_eT1 TIME_SPECTRA_THERM\n",
      "td_eT1 TIME_SPECTRA_THERM\n",
      "Z_eT1 TIME_SPECTRA_THERM\n",
      "xi1xi2 TIME_SPECTRA_THERM\n",
      "xixi TIME_SPECTRA_THERM\n",
      "QT1QT2 TIME_SPECTRA_THERM\n",
      "kB1kB2 TIME_SPECTRA_THERM\n",
      "kL1kL2 TIME_SPECTRA_THERM\n",
      "kU1kU2 TIME_SPECTRA_THERM\n",
      "kP1kP2 TIME_SPECTRA_THERM\n",
      "LR1LR2 TIME_SPECTRA_THERM\n",
      "madT1madT2 TIME_SPECTRA_THERM\n",
      "madcT1madcT2 TIME_SPECTRA_THERM\n",
      "roll TIME_SPECTRA_SHEAR\n",
      "roll_gl TIME_SPECTRA_SHEAR\n",
      "pitch TIME_SPECTRA_SHEAR\n",
      "pitch_gl TIME_SPECTRA_SHEAR\n",
      "P TIME_SPECTRA_SHEAR\n",
      "T TIME_SPECTRA_SHEAR\n",
      "T1 TIME_SPECTRA_SHEAR\n",
      "T2 TIME_SPECTRA_SHEAR\n",
      "nu TIME_SPECTRA_SHEAR\n",
      "C TIME_SPECTRA_SHEAR\n",
      "SP TIME_SPECTRA_SHEAR\n",
      "SA TIME_SPECTRA_SHEAR\n",
      "rho TIME_SPECTRA_SHEAR\n",
      "netcdf created\n"
     ]
    }
   ],
   "source": [
    "if os.path.exists(netcdf_path):\n",
    "    print('Old file removed')\n",
    "    os.remove(netcdf_path)\n",
    "    \n",
    "import numpy as np\n",
    "from netCDF4 import Dataset\n",
    "\n",
    "allowed_types = (str, int, float)\n",
    "\n",
    "#---------------------------------------------\n",
    "ncfile = Dataset(netcdf_path, mode='w', format='NETCDF4')\n",
    "\n",
    "# GLOBAL\n",
    "#---------------------------------------------\n",
    "for attr in dir(globalattr):\n",
    "    if not attr.startswith('__'):\n",
    "        value = getattr(globalattr, attr)\n",
    "        setattr(ncfile, attr, value)\n",
    "\n",
    "# DIMENSIONS\n",
    "#-------\n",
    "ncfile.createDimension('N_SECTION', len(N_SECTION))  # Row dimension for matrices\n",
    "ncfile.createDimension('N_SHEAR_SENSORS', 2)  # Column dimension for matrices\n",
    "ncfile.createDimension('TIME_SPECTRA_SHEAR', len(TIME_SPECTRA_SHEAR))  # Column dimension for matrices\n",
    "ncfile.createDimension('N_THERM_SENSORS', 2)  # Column dimension for matrices\n",
    "ncfile.createDimension('TIME_SPECTRA_THERM', len(TIME_SPECTRA_THERM))  # Column dimension for matrices\n",
    "\n",
    "xx_var = ncfile.createVariable('N_SECTION',     'f8', 'N_SECTION')\n",
    "xx_data = N_SECTION\n",
    "xx_var[:] = xx_data\n",
    "#\n",
    "xx_var = ncfile.createVariable('TIME_SPECTRA_SHEAR',     'f8', 'TIME_SPECTRA_SHEAR')\n",
    "xx_data = TIME_SPECTRA_SHEAR\n",
    "xx_var[:] = xx_data\n",
    "#\n",
    "xx_var = ncfile.createVariable('TIME_SPECTRA_THERM',     'f8', 'TIME_SPECTRA_THERM')\n",
    "xx_data = TIME_SPECTRA_THERM\n",
    "xx_var[:] = xx_data\n",
    "\n",
    "\n",
    "for c in range(fields.shape[0]):\n",
    "    if fields['VarType'][c] == 'Variable':\n",
    "        #\n",
    "        dfToUse = fields['Dataframe'][c]\n",
    "        varname = fields['Variable name'][c]\n",
    "        dfname = fields['Dataframe variable'][c]\n",
    "        stdnam = fields['Standard Name'][c]\n",
    "        uninam = fields['Units'][c]\n",
    "        dim1 = fields['Dim1'][c]\n",
    "        dim2 = fields['Dim2'][c]\n",
    "        print(dfname,dim1)\n",
    "        \n",
    "        if pd.isna(dim2) == True:\n",
    "            xx_var = ncfile.createVariable(varname,     'f8', (dim1))\n",
    "            exec('xx_data = np.array('+dfToUse+'[\"'+dfname+'\"])')\n",
    "            xx_var[:] = xx_data\n",
    "            xx_var.units = uninam\n",
    "            xx_var.standard_name = stdnam\n",
    "                \n",
    "        else:\n",
    "            xx_var = ncfile.createVariable(varname,     'f8', (dim1,dim2))\n",
    "            exec('xx_data = '+dfname)\n",
    "            xx_var[:] = xx_data\n",
    "            xx_var.units = uninam\n",
    "            xx_var.standard_name = stdnam\n",
    "\n",
    "            #print(col,dim)\n",
    "        \n",
    "\n",
    "\n",
    "\n",
    "ncfile.close()\n",
    "print('netcdf created')"
   ]
  },
  {
   "cell_type": "code",
   "execution_count": null,
   "id": "a89a1623-17c3-4945-97de-309140b69ec2",
   "metadata": {},
   "outputs": [],
   "source": [
    "dfToUse = fields['Dataframe'][c]\n",
    "varname = fields['Variable name'][c]\n",
    "dfname = fields['Dataframe variable'][c]\n",
    "dim1 = fields['Dim1'][c]\n",
    "dim2 = fields['Dim2'][c]"
   ]
  },
  {
   "cell_type": "code",
   "execution_count": 656,
   "id": "638b8fbb-e040-49f8-92ef-f93f86bfe45d",
   "metadata": {},
   "outputs": [
    {
     "data": {
      "text/plain": [
       "'TIME_SPECTRA_THERM'"
      ]
     },
     "execution_count": 656,
     "metadata": {},
     "output_type": "execute_result"
    }
   ],
   "source": [
    "dim1"
   ]
  },
  {
   "cell_type": "code",
   "execution_count": 657,
   "id": "7add7e3b-990c-45cb-904a-2c2fd6c82cf6",
   "metadata": {},
   "outputs": [
    {
     "data": {
      "text/plain": [
       "'N_THERM_SENSORS'"
      ]
     },
     "execution_count": 657,
     "metadata": {},
     "output_type": "execute_result"
    }
   ],
   "source": [
    "dim2"
   ]
  },
  {
   "cell_type": "code",
   "execution_count": 654,
   "id": "fed296ca-e545-4c33-9410-e493fa20c5fb",
   "metadata": {},
   "outputs": [
    {
     "data": {
      "text/plain": [
       "'xixi'"
      ]
     },
     "execution_count": 654,
     "metadata": {},
     "output_type": "execute_result"
    }
   ],
   "source": [
    "dfname\n"
   ]
  },
  {
   "cell_type": "code",
   "execution_count": null,
   "id": "bfbec9ac-1a28-4f86-a595-eb23ac0f569d",
   "metadata": {},
   "outputs": [],
   "source": []
  },
  {
   "cell_type": "markdown",
   "id": "c9e4544e-1aad-4ce9-8606-cf37da98c417",
   "metadata": {
    "tags": []
   },
   "source": [
    "### LOAD NETCDF"
   ]
  },
  {
   "cell_type": "code",
   "execution_count": 39,
   "id": "b58b2fd4-e014-428d-bfd1-89fe45d2f550",
   "metadata": {},
   "outputs": [
    {
     "data": {
      "text/plain": [
       "'/Volumes/ORSO/TERESA/microrider/export/L4QC/TERESA_MR_SMART_MISSIONS_2015_2024_L4_QC.nc'"
      ]
     },
     "execution_count": 39,
     "metadata": {},
     "output_type": "execute_result"
    }
   ],
   "source": [
    "netcdf_path"
   ]
  },
  {
   "cell_type": "code",
   "execution_count": 40,
   "id": "f4c4db13-2654-4eb9-9a27-421ddb22523a",
   "metadata": {},
   "outputs": [
    {
     "data": {
      "text/plain": [
       "'TERESA_MR_SMART_MISSIONS_2015_2024_L4_QC.nc'"
      ]
     },
     "execution_count": 40,
     "metadata": {},
     "output_type": "execute_result"
    }
   ],
   "source": [
    "nc_name"
   ]
  },
  {
   "cell_type": "code",
   "execution_count": null,
   "id": "4ac8d690-fdd1-4e44-9c39-14fd935959e9",
   "metadata": {},
   "outputs": [],
   "source": []
  },
  {
   "cell_type": "code",
   "execution_count": 41,
   "id": "6ed25e97-c6bc-454a-9fe4-15a8073a5758",
   "metadata": {},
   "outputs": [
    {
     "name": "stdout",
     "output_type": "stream",
     "text": [
      "/Volumes/ORSO/TERESA/microrider/export/L4QC/TERESA_MR_SMART_MISSIONS_2015_2024_L4_QC.nc \n",
      "\n",
      "{'N_SECTION': <class 'netCDF4._netCDF4.Dimension'>: name = 'N_SECTION', size = 3446, 'N_SHEAR_SENSORS': <class 'netCDF4._netCDF4.Dimension'>: name = 'N_SHEAR_SENSORS', size = 2, 'TIME_SPECTRA_SHEAR': <class 'netCDF4._netCDF4.Dimension'>: name = 'TIME_SPECTRA_SHEAR', size = 1551524, 'N_THERM_SENSORS': <class 'netCDF4._netCDF4.Dimension'>: name = 'N_THERM_SENSORS', size = 2, 'TIME_SPECTRA_THERM': <class 'netCDF4._netCDF4.Dimension'>: name = 'TIME_SPECTRA_THERM', size = 1548828} \n",
      "\n",
      "['FOM_limit', 'acknowledgement', 'address', 'area', 'authors', 'baselocation', 'comment', 'contact', 'contacts', 'conventions', 'creator_email', 'creator_name', 'creator_url', 'cruise', 'date_created', 'date_modified', 'despike_shear_fraction_limit', 'despike_shear_fraction_limit_relax', 'despike_shear_iterations_limit', 'diss_ratio_limit', 'fit_2_isr', 'fs_fast', 'fs_slow', 'geospatial_lat_max', 'geospatial_lat_min', 'geospatial_lat_resolution', 'geospatial_lon_max', 'geospatial_lon_min', 'geospatial_lon_resolution', 'geospatial_vertical_max', 'geospatial_vertical_min', 'goodman', 'history', 'institution', 'instrument', 'int_range_for_FP07', 'keywords', 'license', 'model', 'npoles_for_FP07', 'platform', 'principal_investigator', 'project', 'references', 'source', 'spectral_model_for_FP07', 'spectral_model_for_shears', 'station_name', 'summary', 'time_corr_for_FP07', 'time_coverage_end', 'time_coverage_start', 'time_reference_year', 'title', 'variance_resolved_limit', 'vehicle']\n"
     ]
    }
   ],
   "source": [
    "import netCDF4 as nc\n",
    "\n",
    "print(netcdf_path,'\\n' )\n",
    "\n",
    "f = nc4.Dataset(netcdf_path, 'r')\n",
    "print(f.dimensions,'\\n')\n",
    "print(f.ncattrs())\n",
    "#print(f.variables)"
   ]
  },
  {
   "cell_type": "code",
   "execution_count": 42,
   "id": "daf9ddcd-b090-44e6-9da6-866981b29397",
   "metadata": {},
   "outputs": [
    {
     "data": {
      "text/plain": [
       "['FOM_limit',\n",
       " 'acknowledgement',\n",
       " 'address',\n",
       " 'area',\n",
       " 'authors',\n",
       " 'baselocation',\n",
       " 'comment',\n",
       " 'contact',\n",
       " 'contacts',\n",
       " 'conventions',\n",
       " 'creator_email',\n",
       " 'creator_name',\n",
       " 'creator_url',\n",
       " 'cruise',\n",
       " 'date_created',\n",
       " 'date_modified',\n",
       " 'despike_shear_fraction_limit',\n",
       " 'despike_shear_fraction_limit_relax',\n",
       " 'despike_shear_iterations_limit',\n",
       " 'diss_ratio_limit',\n",
       " 'fit_2_isr',\n",
       " 'fs_fast',\n",
       " 'fs_slow',\n",
       " 'geospatial_lat_max',\n",
       " 'geospatial_lat_min',\n",
       " 'geospatial_lat_resolution',\n",
       " 'geospatial_lon_max',\n",
       " 'geospatial_lon_min',\n",
       " 'geospatial_lon_resolution',\n",
       " 'geospatial_vertical_max',\n",
       " 'geospatial_vertical_min',\n",
       " 'goodman',\n",
       " 'history',\n",
       " 'institution',\n",
       " 'instrument',\n",
       " 'int_range_for_FP07',\n",
       " 'keywords',\n",
       " 'license',\n",
       " 'model',\n",
       " 'npoles_for_FP07',\n",
       " 'platform',\n",
       " 'principal_investigator',\n",
       " 'project',\n",
       " 'references',\n",
       " 'source',\n",
       " 'spectral_model_for_FP07',\n",
       " 'spectral_model_for_shears',\n",
       " 'station_name',\n",
       " 'summary',\n",
       " 'time_corr_for_FP07',\n",
       " 'time_coverage_end',\n",
       " 'time_coverage_start',\n",
       " 'time_reference_year',\n",
       " 'title',\n",
       " 'variance_resolved_limit',\n",
       " 'vehicle']"
      ]
     },
     "execution_count": 42,
     "metadata": {},
     "output_type": "execute_result"
    }
   ],
   "source": [
    "f.ncattrs()\n",
    "\n"
   ]
  },
  {
   "cell_type": "code",
   "execution_count": null,
   "id": "14191d10-d668-45f0-8448-15c920d3afb4",
   "metadata": {},
   "outputs": [],
   "source": []
  },
  {
   "cell_type": "code",
   "execution_count": 685,
   "id": "eefb9c51-cf47-4314-b6a3-ad145ddab475",
   "metadata": {},
   "outputs": [],
   "source": [
    "f = nc4.Dataset(netcdf_path, 'r')"
   ]
  },
  {
   "cell_type": "code",
   "execution_count": 692,
   "id": "1d8b6740-c92d-4562-aaf0-d06a6b23d719",
   "metadata": {},
   "outputs": [],
   "source": [
    "ts = np.array(f.variables['TIME_SPECTRA_SHEAR'])\n",
    "z = np.array(f.variables['Z_SHEAR'])\n",
    "e = np.array(f.variables['EPSI_SHEAR_FINAL'])\n",
    "lon = np.array(f.variables['LON_SHEAR'])\n",
    "lat = np.array(f.variables['LAT_SHEAR'])\n"
   ]
  },
  {
   "cell_type": "code",
   "execution_count": null,
   "id": "d09a5e86-ed4f-440b-84ed-ee16090f8ba7",
   "metadata": {},
   "outputs": [],
   "source": [
    "import numpy as np\n",
    "from datetime import datetime, timedelta\n",
    "ref_time = datetime(1970, 1, 1)\n",
    "dt = np.array([ref_time + timedelta(seconds=s) for s in ts])\n"
   ]
  },
  {
   "cell_type": "code",
   "execution_count": 691,
   "id": "e8ba9eb5-63f2-4740-8f1d-2fddfea4ba7e",
   "metadata": {},
   "outputs": [
    {
     "data": {
      "text/plain": [
       "[<matplotlib.lines.Line2D at 0x7f847dff2e80>]"
      ]
     },
     "execution_count": 691,
     "metadata": {},
     "output_type": "execute_result"
    },
    {
     "data": {
      "image/png": "[encoded data removed]",
      "text/plain": [
       "<Figure size 720x144 with 1 Axes>"
      ]
     },
     "metadata": {
      "needs_background": "light"
     },
     "output_type": "display_data"
    }
   ],
   "source": [
    "fig , axs =  plt.subplots(1,1, figsize=(10,2))\n",
    "#\n",
    "ax = axs\n",
    "ax.plot(dt,z)"
   ]
  },
  {
   "cell_type": "code",
   "execution_count": 695,
   "id": "4432cd0e-537f-47e4-a05a-0048398e12ff",
   "metadata": {},
   "outputs": [
    {
     "data": {
      "image/png": "[encoded data removed]",
      "text/plain": [
       "<Figure size 216x144 with 1 Axes>"
      ]
     },
     "metadata": {
      "needs_background": "light"
     },
     "output_type": "display_data"
    }
   ],
   "source": [
    "fig , axs =  plt.subplots(1,1, figsize=(3,2))\n",
    "#\n",
    "ax = axs\n",
    "ax.plot(lon,lat,'.')\n",
    "ax.grid()"
   ]
  },
  {
   "cell_type": "code",
   "execution_count": 696,
   "id": "af1d3189-e0c1-4624-8fb5-eca52fb9c3a2",
   "metadata": {},
   "outputs": [
    {
     "data": {
      "image/png": "[encoded data removed]",
      "text/plain": [
       "<Figure size 216x144 with 1 Axes>"
      ]
     },
     "metadata": {
      "needs_background": "light"
     },
     "output_type": "display_data"
    }
   ],
   "source": [
    "fig , axs =  plt.subplots(1,1, figsize=(3,2))\n",
    "#\n",
    "ax = axs\n",
    "ax.hist(np.log10(e),bins=np.arange(-12,-6,.2))\n",
    "ax.grid()"
   ]
  },
  {
   "cell_type": "code",
   "execution_count": null,
   "id": "bfb05104-d8a4-442e-9179-7fa9a31f7538",
   "metadata": {},
   "outputs": [],
   "source": []
  },
  {
   "cell_type": "code",
   "execution_count": 43,
   "id": "4c3efebf-0fe0-4704-8bcb-d1e18c393984",
   "metadata": {},
   "outputs": [
    {
     "name": "stdout",
     "output_type": "stream",
     "text": [
      "  FOM_limit = 1.4\n",
      "  acknowledgement = We thank all the technicians and engineers at SOCIB (Balearic Islands Coastal Observing and Forecasting System, Palma, Spain) and Rockland Scientific for their essential work in the deployment operations and data support throughout the various mission years.\n",
      "  address = CNR ISMAR – Institute of Marine Science, Arsenale – Tesa 104, Castello 2737/F, 30122 Venezia, Italy\n",
      "  area = Western Mediterranean Sea\n",
      "  authors = Florian V. M. Kokoszka, Mireno Borghini, Katrin Schroeder, Jacopo Chiggiato, Albert Mirrales, Joaquín Tintoré, Nikolaos Zarokanellos, Albert Miralles, Patricia Rivera Rodríguez,Manuel Rubio, Miguel Charcos, Benjamín Casas, and Anneke T. Doeschate\n",
      "  baselocation = Lerici (La Spezia), ITALY\n",
      "  comment = This dataset was collected using a MicroRider-1000 microstructure package mounted on the glider \"Teresa\" during repeated missions between Sardinia and the Balearic Islands (2015–2024). It includes quality-controlled estimates of ε and χ derived from shear probes and fast thermistors. The processing followed a multi-level workflow (L0–L4) using ODAS MATLAB routines and validated community practices, with attention to glider flight dynamics, sensor stability, and spectral fitting to turbulence models such as Nasmyth and Batchelor.\n",
      "  contact = Florian Volmer Martin Kokoszka, CNR-ISMAR, Napoli\n",
      "  contacts = Mireno Borghini (PI), Katrin Schroeder (PI)\n",
      "  conventions = CF-1.6, ACDD-1.3, ATOMIX-1.0\n",
      "  creator_email = florian.kokoszka @ na.ismar.it\n",
      "  creator_name = Florian Volmer Martin Kokoszka\n",
      "  creator_url = https://orcid.org/0000-0001-5346-3058\n",
      "  cruise = SMART: Sardinia - MAllorca Repeated Transect\n",
      "  date_created = 2025-07-27T12:00:00Z\n",
      "  date_modified = 2025-07-27T12:00:00Z\n",
      "  despike_shear_fraction_limit = 0.05\n",
      "  despike_shear_fraction_limit_relax = 0.15\n",
      "  despike_shear_iterations_limit = 9\n",
      "  diss_ratio_limit = [2.77 4.2 ]\n",
      "  fit_2_isr = 10^-5 W kg^-1\n",
      "  fs_fast = 512 Hz\n",
      "  fs_slow = 64 Hz\n",
      "  geospatial_lat_max = 39.870167951832975\n",
      "  geospatial_lat_min = 39.06149508953671\n",
      "  geospatial_lat_resolution = nan\n",
      "  geospatial_lon_max = 8.342382055189189\n",
      "  geospatial_lon_min = 2.5618371697676583\n",
      "  geospatial_lon_resolution = nan\n",
      "  geospatial_vertical_max = 949.766492802003\n",
      "  geospatial_vertical_min = 3.2044551290565098\n",
      "  goodman = True\n",
      "  history = Version 1.0, FK 07-2025\n",
      "  institution = CNR-ISMAR\n",
      "  instrument = MicroRider MR-1000-LP (RSI)\n",
      "  int_range_for_FP07 = Steinbuck\n",
      "  keywords = turbulence, microstructure, dissipation, thermal variance, glider, dataset\n",
      "  license = http://creativecommons.org/licenses/by/4.0/\n",
      "  model = Slocum Deep Glider G2 (Teledyne)\n",
      "  npoles_for_FP07 = single\n",
      "  platform = sub-surface glider\n",
      "  principal_investigator = Florian Volmer Martin Kokoszka, CNR-ISMAR, Napoli\n",
      "  project = Eurofleets\n",
      "  references = Lueck et al. 2024; Fer et al. 2024; Le Boyer et al. 2023: Piccolroaz et al. 2021\n",
      "  source = MicroRider MR-1000-LP (RSI)\n",
      "  spectral_model_for_FP07 = Kraichnan\n",
      "  spectral_model_for_shears = Lueck\n",
      "  station_name = SMART Transects\n",
      "  summary = We present a comprehensive dataset of turbulence microstructure measurements collected with a Micro Rider (MR) from Rockland Scientific International (RSI) mounted on the Slocum Deep Glider “Teresa” across repeated transects between Sardinia and the Balearic Islands (SMART missions, 2015–2024). This dataset constitutes one of the most extensive autonomous glider-based microstructure archives to date for the Western Mediterranean, containing glider sections and delivering quality-controlled vertical profiles of turbulent kinetic energy dissipation rate (ε) and thermal variance dissipation rate (χ) across seasonal cycles and diverse water masses. The data were processed through a rigorous multilevel workflow (L0–L4), following community best practices for calibration, quality control, and uncertainty quantification. Final products include ε estimates from dual shear probes and complementary χ-derived dissipation, aligned with co-located hydrographic and biogeochemical measurements. This dataset provides a high-resolution resource for investigating fine-scale mixing, validating parameterizations, and improving turbulence representation in models. All data and processing codes are openly provided to support reuse, reproducibility, and integration into global efforts advancing the inclusion of turbulence as an Essential Ocean Variable. \n",
      "  time_corr_for_FP07 = RSI\n",
      "  time_coverage_end = 2024-07-04T05:36:51Z\n",
      "  time_coverage_start = 2015-08-12T10:32:44Z\n",
      "  time_reference_year = 2015-2024\n",
      "  title = A Reference Glider-Based Microstructure Dataset from the Western Mediterranean\n",
      "  variance_resolved_limit = 0.6\n",
      "  vehicle = Glider\n"
     ]
    }
   ],
   "source": [
    "for attr in f.ncattrs():\n",
    "    print(f\"  {attr} = {getattr(f, attr)}\")"
   ]
  },
  {
   "cell_type": "code",
   "execution_count": 44,
   "id": "c3611a4d-7857-4808-be9b-6dd7424bd06c",
   "metadata": {},
   "outputs": [
    {
     "name": "stdout",
     "output_type": "stream",
     "text": [
      "\n",
      "📦 Attributs des variables :\n",
      "\n",
      "▶ Variable 'N_SECTION'\n",
      "\n",
      "▶ Variable 'TIME_SPECTRA_SHEAR'\n",
      "\n",
      "▶ Variable 'TIME_SPECTRA_THERM'\n",
      "\n",
      "▶ Variable 'SECTION_INDEX'\n",
      "  units = —\n",
      "  standard_name = unique_identifier_for_each_section_of_data_from_timeseries\n",
      "\n",
      "▶ Variable 'SECTION_fs_fast'\n",
      "  units = Hz\n",
      "  standard_name = fs_fast\n",
      "\n",
      "▶ Variable 'SECTION_fs_slow'\n",
      "  units = Hz\n",
      "  standard_name = fs_slow\n",
      "\n",
      "▶ Variable 'SECTION_profiling_direction'\n",
      "  units = Logic\n",
      "  standard_name = profiling_direction_updown\n",
      "\n",
      "▶ Variable 'SECTION_speed_mean'\n",
      "  units = m s-1\n",
      "  standard_name = gliding_speed\n",
      "\n",
      "▶ Variable 'SECTION_vehicle_length'\n",
      "  units = m\n",
      "  standard_name = vehicle_length\n",
      "\n",
      "▶ Variable 'SECTION_tau_to_avoidadv'\n",
      "  units = s\n",
      "  standard_name = tau_to_avoidadv\n",
      "\n",
      "▶ Variable 'SECTION_tau_to_resolve_05cpm'\n",
      "  units = s\n",
      "  standard_name = tau_to_resolve_05cpm\n",
      "\n",
      "▶ Variable 'SECTION_tau_fft'\n",
      "  units = s\n",
      "  standard_name = tau_fft\n",
      "\n",
      "▶ Variable 'SECTION_Pearson_TglT1'\n",
      "  units = —\n",
      "  standard_name = pearson_TglT1\n",
      "\n",
      "▶ Variable 'SECTION_Pearson_TglT2'\n",
      "  units = —\n",
      "  standard_name = pearson_TglT2\n",
      "\n",
      "▶ Variable 'SECTION_Therm_source'\n",
      "  units = Flag\n",
      "  standard_name = therm_source\n",
      "\n",
      "▶ Variable 'SECTION_Temp_source'\n",
      "  units = Flag\n",
      "  standard_name = temp_source\n",
      "\n",
      "▶ Variable 'SECTION_f_AA'\n",
      "  units = Hz\n",
      "  standard_name = f_AA\n",
      "\n",
      "▶ Variable 'SECTION_SHEAR_fft_length'\n",
      "  units = —\n",
      "  standard_name = SHEAR_fft_length\n",
      "\n",
      "▶ Variable 'SECTION_SHEAR_diss_length'\n",
      "  units = —\n",
      "  standard_name = SHEAR_diss_length\n",
      "\n",
      "▶ Variable 'SECTION_SHEAR_overlap'\n",
      "  units = —\n",
      "  standard_name = SHEAR_overlap\n",
      "\n",
      "▶ Variable 'SECTION_SHEAR_goodman'\n",
      "  units = Logic\n",
      "  standard_name = SHEAR_goodman\n",
      "\n",
      "▶ Variable 'SECTION_SHEAR_HP_cut'\n",
      "  units = Hz\n",
      "  standard_name = SHEAR_HP_cut\n",
      "\n",
      "▶ Variable 'SECTION_SHEAR_kl'\n",
      "  units = cpm\n",
      "  standard_name = SHEAR_kmin\n",
      "\n",
      "▶ Variable 'SECTION_SHEAR_L_fft'\n",
      "  units = m\n",
      "  standard_name = SHEAR_L_fft\n",
      "\n",
      "▶ Variable 'SECTION_SHEAR_N_fft'\n",
      "  units = —\n",
      "  standard_name = SHEAR_N_fft\n",
      "\n",
      "▶ Variable 'SECTION_SHEAR_FOM_limit'\n",
      "  units = —\n",
      "  standard_name = SHEAR_FOM_limit\n",
      "\n",
      "▶ Variable 'SECTION_SHEAR_diss_ratio_limit_VSR'\n",
      "  units = —\n",
      "  standard_name = SHEAR_diss_ratio_limit\n",
      "\n",
      "▶ Variable 'SECTION_SHEAR_diss_ratio_limit_ISR'\n",
      "  units = —\n",
      "  standard_name = SHEAR_diss_ratio_limit\n",
      "\n",
      "▶ Variable 'SECTION_SHEAR_despike_shear_fraction_limit'\n",
      "  units = %\n",
      "  standard_name = SHEAR_despike_shear_fraction_limit\n",
      "\n",
      "▶ Variable 'SECTION_SHEAR_despike_shear_fraction_limit_relax'\n",
      "  units = %\n",
      "  standard_name = SHEAR_despike_shear_fraction_limit_relaxed\n",
      "\n",
      "▶ Variable 'SECTION_SHEAR_despike_shear_iterations_limit'\n",
      "  units = —\n",
      "  standard_name = SHEAR_despike_shear_iterations_limit\n",
      "\n",
      "▶ Variable 'SECTION_SHEAR_variance_resolved_limit'\n",
      "  units = —\n",
      "  standard_name = SHEAR_variance_resolved_limit\n",
      "\n",
      "▶ Variable 'SECTION_SHEAR_f_limit'\n",
      "  units = cpm\n",
      "  standard_name = SHEAR_f_limit\n",
      "\n",
      "▶ Variable 'SECTION_SHEAR_fit_2_isr'\n",
      "  units = W kg-1\n",
      "  standard_name = SHEAR_fit_2_isr\n",
      "\n",
      "▶ Variable 'SECTION_SHEAR_spectral_model'\n",
      "  units = Logic\n",
      "  standard_name = SHEAR_spectral_model\n",
      "\n",
      "▶ Variable 'SECTION_THERM_npoles'\n",
      "  units = —\n",
      "  standard_name = THERM_npoles\n",
      "\n",
      "▶ Variable 'SECTION_THERM_fft_length'\n",
      "  units = —\n",
      "  standard_name = THERM_fft_length\n",
      "\n",
      "▶ Variable 'SECTION_THERM_diss_length'\n",
      "  units = —\n",
      "  standard_name = THERM_diss_length\n",
      "\n",
      "▶ Variable 'SECTION_THERM_overlap'\n",
      "  units = —\n",
      "  standard_name = THERM_overlap\n",
      "\n",
      "▶ Variable 'SECTION_THERM_Tdis'\n",
      "  units = Logic\n",
      "  standard_name = THERM_Tdis\n",
      "\n",
      "▶ Variable 'SECTION_THERM_q'\n",
      "  units = —\n",
      "  standard_name = THERM_q\n",
      "\n",
      "▶ Variable 'SECTION_THERM_tau_0'\n",
      "  units = s\n",
      "  standard_name = THERM_tau_0\n",
      "\n",
      "▶ Variable 'SECTION_THERM_time_corr'\n",
      "  units = Logic\n",
      "  standard_name = THERM_time_corr\n",
      "\n",
      "▶ Variable 'SECTION_THERM_int_range'\n",
      "  units = Logic\n",
      "  standard_name = THERM_int_range\n",
      "\n",
      "▶ Variable 'SECTION_NUMBER_SHEAR'\n",
      "  units = —\n",
      "  standard_name = unique_identifier_for_each_section_of_data_from_shear_timeseries\n",
      "\n",
      "▶ Variable 'PSPD_REL'\n",
      "  units = m s-1\n",
      "  standard_name = plateform_speed_wrt_sea_water\n",
      "\n",
      "▶ Variable 'PSPD_REL_STD'\n",
      "  units = m s-1\n",
      "  standard_name = std_plateform_speed_wrt_sea_water\n",
      "\n",
      "▶ Variable 'PSPD_AOA'\n",
      "  units = angular degrees\n",
      "  standard_name = plateform_angle_of_attack_sea_water\n",
      "\n",
      "▶ Variable 'PRES_SHEAR'\n",
      "  units = dbar\n",
      "  standard_name = sea_water_pressure\n",
      "\n",
      "▶ Variable 'LON_SHEAR'\n",
      "  units = decimal degree\n",
      "  standard_name = longitude\n",
      "\n",
      "▶ Variable 'LAT_SHEAR'\n",
      "  units = decimal degree\n",
      "  standard_name = latitude\n",
      "\n",
      "▶ Variable 'KVISC_SHEAR'\n",
      "  units = m2 s-1\n",
      "  standard_name = kinematic_viscosity_of_sea_water\n",
      "\n",
      "▶ Variable 'Z_SHEAR'\n",
      "  units = m\n",
      "  standard_name = depth\n",
      "\n",
      "▶ Variable 'EPSI_SHEAR'\n",
      "  units = W kg-1\n",
      "  standard_name = specific_turbulent_kinetic_dissipation_in_sea_water\n",
      "\n",
      "▶ Variable 'EPSI_SHEAR_FINAL'\n",
      "  units = W kg-1\n",
      "  standard_name = specific_turbulent_kinetic_dissipation_in_sea_water\n",
      "\n",
      "▶ Variable 'EPSI_SHEAR_STD_VSR'\n",
      "  units = W kg-1\n",
      "  standard_name = expected_standard_deviation_vsr\n",
      "\n",
      "▶ Variable 'EPSI_SHEAR_STD_ISR'\n",
      "  units = W kg-1\n",
      "  standard_name = expected_standard_deviation_isr\n",
      "\n",
      "▶ Variable 'EPSI_SHEAR_FLAGS'\n",
      "  units = Integer flag\n",
      "  standard_name = dissipation_qc_flags\n",
      "\n",
      "▶ Variable 'KMIN_SHEAR'\n",
      "  units = cpm\n",
      "  standard_name = minimum_wavenumber_used_for_dissipation_estimate\n",
      "\n",
      "▶ Variable 'KMAX_SHEAR'\n",
      "  units = cpm\n",
      "  standard_name = maximum_wavenumber_used_for_dissipation_estimate\n",
      "\n",
      "▶ Variable 'N_S_SHEAR'\n",
      "  units = —\n",
      "  standard_name = number_of_spectral_point_for_dissipation_estimate\n",
      "\n",
      "▶ Variable 'FOM_SHEAR'\n",
      "  units = —\n",
      "  standard_name = figure_of_merit\n",
      "\n",
      "▶ Variable 'MAD_SHEAR'\n",
      "  units = —\n",
      "  standard_name = mean_absolute_deviation\n",
      "\n",
      "▶ Variable 'VAR_RESOLVED_SHEAR'\n",
      "  units = —\n",
      "  standard_name = variance_resolved\n",
      "\n",
      "▶ Variable 'DESPIKE_FRACTION_SHEAR'\n",
      "  units = %\n",
      "  standard_name = fraction_of_shear_data_modified_by_despiking\n",
      "\n",
      "▶ Variable 'DESPIKE_PASSCOUNT_SHEAR'\n",
      "  units = —\n",
      "  standard_name = number_of_pass_for_data_despiking\n",
      "\n",
      "▶ Variable 'SECTION_NUMBER_THERM'\n",
      "  units = —\n",
      "  standard_name = unique_identifier_for_each_section_of_data_from_timeseries\n",
      "\n",
      "▶ Variable 'PRES_THERM'\n",
      "  units = dbar\n",
      "  standard_name = sea_water_pressure\n",
      "\n",
      "▶ Variable 'LAT_THERM'\n",
      "  units = decimal degree\n",
      "  standard_name = latitude\n",
      "\n",
      "▶ Variable 'LON_THERM'\n",
      "  units = decimal degree\n",
      "  standard_name = longitude\n",
      "\n",
      "▶ Variable 'KVISC_THERM'\n",
      "  units = m2 s-1\n",
      "  standard_name = kinematic_viscosity_of_sea_water\n",
      "\n",
      "▶ Variable 'SW_Diffusivity_THERM'\n",
      "  units = m2 s-1\n",
      "  standard_name = thermal_diffusivity_of_sea_water\n",
      "\n",
      "▶ Variable 'Z_THERM'\n",
      "  units = m\n",
      "  standard_name = depth\n",
      "\n",
      "▶ Variable 'XIT_THERM'\n",
      "  units = ºC^2 s-1\n",
      "  standard_name = specific_turbulent_thermal_dissipation_in_sea_water\n",
      "\n",
      "▶ Variable 'XIT_THERM_FINAL'\n",
      "  units = ºC^2 s-1\n",
      "  standard_name = specific_turbulent_thermal_dissipation_in_sea_water\n",
      "\n",
      "▶ Variable 'XIT_THERM_FLAGS'\n",
      "  units = Integer\n",
      "  standard_name = xit_qc_flags\n",
      "\n",
      "▶ Variable 'KB_THERM'\n",
      "  units = cpm\n",
      "  standard_name = Batchelor_wavenumber_after_MLE_spectral_fitting\n",
      "\n",
      "▶ Variable 'KMIN_THERM'\n",
      "  units = cpm\n",
      "  standard_name = lower_integration_wavenumber\n",
      "\n",
      "▶ Variable 'KMAX_THERM'\n",
      "  units = cpm\n",
      "  standard_name = upper_integration_wavenumber\n",
      "\n",
      "▶ Variable 'K_P_THERM'\n",
      "  units = cpm\n",
      "  standard_name = wavenumber_corresponding_to_fitted_theoretical_spectrum_peak\n",
      "\n",
      "▶ Variable 'LR_THERM'\n",
      "  units = —\n",
      "  standard_name = likelihood_ratio\n",
      "\n",
      "▶ Variable 'MAD_T_THERM'\n",
      "  units = —\n",
      "  standard_name = mad_between_observed_and_empirical_spectra_using_MLE_fitting\n",
      "\n",
      "▶ Variable 'MADc _THERM'\n",
      "  units = —\n",
      "  standard_name = threshold_for_mad_between_observed_and_empirical_spectra\n",
      "\n",
      "▶ Variable 'ROLL_MR'\n",
      "  units = Angular degrees\n",
      "  standard_name = roll_from_microrider_sensors\n",
      "\n",
      "▶ Variable 'ROLL_GL'\n",
      "  units = Angular degrees\n",
      "  standard_name = roll_from_glider_sensors\n",
      "\n",
      "▶ Variable 'PITCH_MR'\n",
      "  units = Angular degrees\n",
      "  standard_name = pitch_from_microrider_sensors\n",
      "\n",
      "▶ Variable 'PITCH_GL'\n",
      "  units = Angular degrees\n",
      "  standard_name = pitch_from_glider_sensors\n",
      "\n",
      "▶ Variable 'P_GL'\n",
      "  units = decibar\n",
      "  standard_name = sea_water_pressure\n",
      "\n",
      "▶ Variable 'T_GL'\n",
      "  units = Celsius degree\n",
      "  standard_name = sea_water_temperature\n",
      "\n",
      "▶ Variable 'T1_MR'\n",
      "  units = Celsius degree\n",
      "  standard_name = thermistor1_microrider\n",
      "\n",
      "▶ Variable 'T2_MR'\n",
      "  units = Celsius degree\n",
      "  standard_name = thermistor2_microrider\n",
      "\n",
      "▶ Variable 'nu_GL'\n",
      "  units = m^2 s-1\n",
      "  standard_name = kinematic_viscosity_of_sea_water\n",
      "\n",
      "▶ Variable 'C_GL'\n",
      "  units = S/m\n",
      "  standard_name = conductivity_of_sea_water\n",
      "\n",
      "▶ Variable 'SP_GL'\n",
      "  units = PSU\n",
      "  standard_name = practical_salinity_of_sea_water\n",
      "\n",
      "▶ Variable 'SA_GL'\n",
      "  units = g kg-1\n",
      "  standard_name = absolute_salinity_of_sea_water\n",
      "\n",
      "▶ Variable 'RHO_GL'\n",
      "  units = kg m-3\n",
      "  standard_name = density_of_sea_water\n"
     ]
    }
   ],
   "source": [
    "print(\"\\n📦 Attributs des variables :\")\n",
    "for var_name in f.variables:\n",
    "    var = f.variables[var_name]\n",
    "    print(f\"\\n▶ Variable '{var_name}'\")\n",
    "    for attr in var.ncattrs():\n",
    "        print(f\"  {attr} = {getattr(var, attr)}\")"
   ]
  },
  {
   "cell_type": "code",
   "execution_count": null,
   "id": "f2408618-5389-4f80-8795-8d4189c0e4e2",
   "metadata": {},
   "outputs": [],
   "source": []
  },
  {
   "cell_type": "code",
   "execution_count": null,
   "id": "8c54485f-33e7-42e1-bf21-291c70170143",
   "metadata": {},
   "outputs": [],
   "source": []
  },
  {
   "cell_type": "code",
   "execution_count": null,
   "id": "7639f711-e673-46c4-8bba-c6df2886e00c",
   "metadata": {},
   "outputs": [],
   "source": []
  },
  {
   "cell_type": "code",
   "execution_count": null,
   "id": "abc3f904-9aa2-44d0-ab11-c5aeadf63b02",
   "metadata": {},
   "outputs": [],
   "source": []
  }
 ],
 "metadata": {
  "kernelspec": {
   "display_name": "Python 3",
   "language": "python",
   "name": "python3"
  },
  "language_info": {
   "codemirror_mode": {
    "name": "ipython",
    "version": 3
   },
   "file_extension": ".py",
   "mimetype": "text/x-python",
   "name": "python",
   "nbconvert_exporter": "python",
   "pygments_lexer": "ipython3",
   "version": "3.8.5"
  }
 },
 "nbformat": 4,
 "nbformat_minor": 5
}
